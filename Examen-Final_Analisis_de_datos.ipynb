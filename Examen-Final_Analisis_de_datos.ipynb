{
 "nbformat": 4,
 "nbformat_minor": 0,
 "metadata": {
  "colab": {
   "provenance": []
  },
  "kernelspec": {
   "name": "python3",
   "display_name": "Python 3 (ipykernel)",
   "language": "python"
  },
  "language_info": {
   "name": "python"
  }
 },
 "cells": [
  {
   "cell_type": "code",
   "metadata": {
    "id": "qjGHr-p3qsTr",
    "ExecuteTime": {
     "end_time": "2024-04-16T20:08:26.659365Z",
     "start_time": "2024-04-16T20:08:26.228939Z"
    }
   },
   "source": [
    "import pandas as pd"
   ],
   "outputs": [],
   "execution_count": 2
  },
  {
   "metadata": {},
   "cell_type": "markdown",
   "source": "Cargamos el DataSet en la variable datos"
  },
  {
   "cell_type": "code",
   "source": [
    "datos = pd.read_csv('airlines_reviews.csv')\n",
    "datos.head()"
   ],
   "metadata": {
    "colab": {
     "base_uri": "https://localhost:8080/",
     "height": 573
    },
    "id": "bsqI_djdvEaL",
    "outputId": "61592988-ea11-46d8-848b-2f529b88482b",
    "ExecuteTime": {
     "end_time": "2024-04-16T20:08:26.772957Z",
     "start_time": "2024-04-16T20:08:26.659365Z"
    }
   },
   "outputs": [
    {
     "data": {
      "text/plain": [
       "                                  Title              Name Review Date  \\\n",
       "0                    Flight was amazing  Alison Soetantyo  2024-03-01   \n",
       "1  seats on this aircraft are dreadful      Robert Watson  2024-02-21   \n",
       "2          Food was plentiful and tasty             S Han  2024-02-20   \n",
       "3          “how much food was available          D Laynes  2024-02-19   \n",
       "4       “service was consistently good”         A Othman   2024-02-19   \n",
       "\n",
       "              Airline Verified  \\\n",
       "0  Singapore Airlines     True   \n",
       "1  Singapore Airlines     True   \n",
       "2  Singapore Airlines     True   \n",
       "3  Singapore Airlines     True   \n",
       "4  Singapore Airlines     True   \n",
       "\n",
       "                                             Reviews Type of Traveller  \\\n",
       "0    Flight was amazing. The crew onboard this fl...      Solo Leisure   \n",
       "1    Booking an emergency exit seat still meant h...      Solo Leisure   \n",
       "2    Excellent performance on all fronts. I would...    Family Leisure   \n",
       "3   Pretty comfortable flight considering I was f...      Solo Leisure   \n",
       "4   The service was consistently good from start ...    Family Leisure   \n",
       "\n",
       "     Month Flown                         Route           Class  Seat Comfort  \\\n",
       "0  December 2023          Jakarta to Singapore  Business Class             4   \n",
       "1  February 2024           Phuket to Singapore   Economy Class             5   \n",
       "2  February 2024        Siem Reap to Singapore   Economy Class             1   \n",
       "3  February 2024  Singapore to London Heathrow   Economy Class             5   \n",
       "4  February 2024       Singapore to Phnom Penh   Economy Class             5   \n",
       "\n",
       "   Staff Service  Food & Beverages  Inflight Entertainment  Value For Money  \\\n",
       "0              4                 4                       4                4   \n",
       "1              3                 4                       4                1   \n",
       "2              5                 2                       1                5   \n",
       "3              5                 5                       5                5   \n",
       "4              5                 5                       5                5   \n",
       "\n",
       "   Overall Rating Recommended  \n",
       "0               9         yes  \n",
       "1               3          no  \n",
       "2              10         yes  \n",
       "3              10         yes  \n",
       "4              10         yes  "
      ],
      "text/html": [
       "<div>\n",
       "<style scoped>\n",
       "    .dataframe tbody tr th:only-of-type {\n",
       "        vertical-align: middle;\n",
       "    }\n",
       "\n",
       "    .dataframe tbody tr th {\n",
       "        vertical-align: top;\n",
       "    }\n",
       "\n",
       "    .dataframe thead th {\n",
       "        text-align: right;\n",
       "    }\n",
       "</style>\n",
       "<table border=\"1\" class=\"dataframe\">\n",
       "  <thead>\n",
       "    <tr style=\"text-align: right;\">\n",
       "      <th></th>\n",
       "      <th>Title</th>\n",
       "      <th>Name</th>\n",
       "      <th>Review Date</th>\n",
       "      <th>Airline</th>\n",
       "      <th>Verified</th>\n",
       "      <th>Reviews</th>\n",
       "      <th>Type of Traveller</th>\n",
       "      <th>Month Flown</th>\n",
       "      <th>Route</th>\n",
       "      <th>Class</th>\n",
       "      <th>Seat Comfort</th>\n",
       "      <th>Staff Service</th>\n",
       "      <th>Food &amp; Beverages</th>\n",
       "      <th>Inflight Entertainment</th>\n",
       "      <th>Value For Money</th>\n",
       "      <th>Overall Rating</th>\n",
       "      <th>Recommended</th>\n",
       "    </tr>\n",
       "  </thead>\n",
       "  <tbody>\n",
       "    <tr>\n",
       "      <th>0</th>\n",
       "      <td>Flight was amazing</td>\n",
       "      <td>Alison Soetantyo</td>\n",
       "      <td>2024-03-01</td>\n",
       "      <td>Singapore Airlines</td>\n",
       "      <td>True</td>\n",
       "      <td>Flight was amazing. The crew onboard this fl...</td>\n",
       "      <td>Solo Leisure</td>\n",
       "      <td>December 2023</td>\n",
       "      <td>Jakarta to Singapore</td>\n",
       "      <td>Business Class</td>\n",
       "      <td>4</td>\n",
       "      <td>4</td>\n",
       "      <td>4</td>\n",
       "      <td>4</td>\n",
       "      <td>4</td>\n",
       "      <td>9</td>\n",
       "      <td>yes</td>\n",
       "    </tr>\n",
       "    <tr>\n",
       "      <th>1</th>\n",
       "      <td>seats on this aircraft are dreadful</td>\n",
       "      <td>Robert Watson</td>\n",
       "      <td>2024-02-21</td>\n",
       "      <td>Singapore Airlines</td>\n",
       "      <td>True</td>\n",
       "      <td>Booking an emergency exit seat still meant h...</td>\n",
       "      <td>Solo Leisure</td>\n",
       "      <td>February 2024</td>\n",
       "      <td>Phuket to Singapore</td>\n",
       "      <td>Economy Class</td>\n",
       "      <td>5</td>\n",
       "      <td>3</td>\n",
       "      <td>4</td>\n",
       "      <td>4</td>\n",
       "      <td>1</td>\n",
       "      <td>3</td>\n",
       "      <td>no</td>\n",
       "    </tr>\n",
       "    <tr>\n",
       "      <th>2</th>\n",
       "      <td>Food was plentiful and tasty</td>\n",
       "      <td>S Han</td>\n",
       "      <td>2024-02-20</td>\n",
       "      <td>Singapore Airlines</td>\n",
       "      <td>True</td>\n",
       "      <td>Excellent performance on all fronts. I would...</td>\n",
       "      <td>Family Leisure</td>\n",
       "      <td>February 2024</td>\n",
       "      <td>Siem Reap to Singapore</td>\n",
       "      <td>Economy Class</td>\n",
       "      <td>1</td>\n",
       "      <td>5</td>\n",
       "      <td>2</td>\n",
       "      <td>1</td>\n",
       "      <td>5</td>\n",
       "      <td>10</td>\n",
       "      <td>yes</td>\n",
       "    </tr>\n",
       "    <tr>\n",
       "      <th>3</th>\n",
       "      <td>“how much food was available</td>\n",
       "      <td>D Laynes</td>\n",
       "      <td>2024-02-19</td>\n",
       "      <td>Singapore Airlines</td>\n",
       "      <td>True</td>\n",
       "      <td>Pretty comfortable flight considering I was f...</td>\n",
       "      <td>Solo Leisure</td>\n",
       "      <td>February 2024</td>\n",
       "      <td>Singapore to London Heathrow</td>\n",
       "      <td>Economy Class</td>\n",
       "      <td>5</td>\n",
       "      <td>5</td>\n",
       "      <td>5</td>\n",
       "      <td>5</td>\n",
       "      <td>5</td>\n",
       "      <td>10</td>\n",
       "      <td>yes</td>\n",
       "    </tr>\n",
       "    <tr>\n",
       "      <th>4</th>\n",
       "      <td>“service was consistently good”</td>\n",
       "      <td>A Othman</td>\n",
       "      <td>2024-02-19</td>\n",
       "      <td>Singapore Airlines</td>\n",
       "      <td>True</td>\n",
       "      <td>The service was consistently good from start ...</td>\n",
       "      <td>Family Leisure</td>\n",
       "      <td>February 2024</td>\n",
       "      <td>Singapore to Phnom Penh</td>\n",
       "      <td>Economy Class</td>\n",
       "      <td>5</td>\n",
       "      <td>5</td>\n",
       "      <td>5</td>\n",
       "      <td>5</td>\n",
       "      <td>5</td>\n",
       "      <td>10</td>\n",
       "      <td>yes</td>\n",
       "    </tr>\n",
       "  </tbody>\n",
       "</table>\n",
       "</div>"
      ]
     },
     "execution_count": 3,
     "metadata": {},
     "output_type": "execute_result"
    }
   ],
   "execution_count": 3
  },
  {
   "metadata": {},
   "cell_type": "markdown",
   "source": "Revisamos la catidad de datos que tenemos, es decir la cantidad de reviews en el dataset"
  },
  {
   "cell_type": "code",
   "source": [
    "len(datos)"
   ],
   "metadata": {
    "colab": {
     "base_uri": "https://localhost:8080/"
    },
    "id": "68g007Q30Nzy",
    "outputId": "843c1623-162c-41c5-8bff-9c93b173923a",
    "ExecuteTime": {
     "end_time": "2024-04-16T20:08:26.776927Z",
     "start_time": "2024-04-16T20:08:26.772957Z"
    }
   },
   "outputs": [
    {
     "data": {
      "text/plain": [
       "8100"
      ]
     },
     "execution_count": 4,
     "metadata": {},
     "output_type": "execute_result"
    }
   ],
   "execution_count": 4
  },
  {
   "metadata": {},
   "cell_type": "markdown",
   "source": [
    "Para poder trabajar con las fechas, primero convertimos la columna llamada 'Review Date' en tipo fecha, se puede hacer manualmente \n",
    "o inferir los tipos de datos automaticamente con infer_objects() "
   ]
  },
  {
   "metadata": {
    "ExecuteTime": {
     "end_time": "2024-04-16T20:16:22.732647Z",
     "start_time": "2024-04-16T20:16:22.724859Z"
    }
   },
   "cell_type": "code",
   "source": [
    "datos = datos.infer_objects()\n",
    "datos.dtypes"
   ],
   "outputs": [
    {
     "data": {
      "text/plain": [
       "Title                     string[python]\n",
       "Name                      string[python]\n",
       "Review Date               datetime64[ns]\n",
       "Airline                   string[python]\n",
       "Verified                  string[python]\n",
       "Reviews                   string[python]\n",
       "Type of Traveller         string[python]\n",
       "Month Flown               string[python]\n",
       "Route                     string[python]\n",
       "Class                     string[python]\n",
       "Seat Comfort                       Int64\n",
       "Staff Service                      Int64\n",
       "Food & Beverages                   Int64\n",
       "Inflight Entertainment             Int64\n",
       "Value For Money                    Int64\n",
       "Overall Rating                     Int64\n",
       "Recommended               string[python]\n",
       "Año                                int32\n",
       "dtype: object"
      ]
     },
     "execution_count": 12,
     "metadata": {},
     "output_type": "execute_result"
    }
   ],
   "execution_count": 12
  },
  {
   "cell_type": "markdown",
   "source": [
    "a. ¿Cuántos comentarios se encuentran verificados?<br/>\n",
    "Convertimos la columna a tipo boolean, mapeando todos los elementos que tienen el string True y False.<br/>\n",
    "Obtenemos el Número de reviews verificadas, agrupando los datos por la columna Verified.\n"
   ],
   "metadata": {
    "id": "apd_QwtbC-8y"
   }
  },
  {
   "source": [
    "datos['Verified'] = datos['Verified'].map({'True': True, 'False': False})\n",
    "datos.groupby('Verified').size()"
   ],
   "cell_type": "code",
   "metadata": {
    "colab": {
     "base_uri": "https://localhost:8080/"
    },
    "id": "3R6vYlhPvfh_",
    "outputId": "c1409fc9-9a1f-4bbf-c80c-97093299218c",
    "ExecuteTime": {
     "end_time": "2024-04-16T20:23:07.854922Z",
     "start_time": "2024-04-16T20:23:07.848959Z"
    }
   },
   "outputs": [
    {
     "data": {
      "text/plain": [
       "Verified\n",
       "False    1881\n",
       "True     6216\n",
       "dtype: int64"
      ]
     },
     "execution_count": 15,
     "metadata": {},
     "output_type": "execute_result"
    }
   ],
   "execution_count": 15
  },
  {
   "metadata": {
    "ExecuteTime": {
     "end_time": "2024-04-16T20:34:58.285743Z",
     "start_time": "2024-04-16T20:34:58.281607Z"
    }
   },
   "cell_type": "code",
   "source": "datos.dtypes",
   "outputs": [
    {
     "data": {
      "text/plain": [
       "Title                     string[python]\n",
       "Name                      string[python]\n",
       "Review Date               datetime64[ns]\n",
       "Airline                   string[python]\n",
       "Verified                          object\n",
       "Reviews                   string[python]\n",
       "Type of Traveller         string[python]\n",
       "Month Flown               string[python]\n",
       "Route                     string[python]\n",
       "Class                     string[python]\n",
       "Seat Comfort                       Int64\n",
       "Staff Service                      Int64\n",
       "Food & Beverages                   Int64\n",
       "Inflight Entertainment             Int64\n",
       "Value For Money                    Int64\n",
       "Overall Rating                     Int64\n",
       "Recommended               string[python]\n",
       "Año                                int32\n",
       "dtype: object"
      ]
     },
     "execution_count": 20,
     "metadata": {},
     "output_type": "execute_result"
    }
   ],
   "execution_count": 20
  },
  {
   "metadata": {},
   "cell_type": "markdown",
   "source": [
    "b.¿Cuál es el rango de fechas de los vuelos que se registran en el dataset?<br/>\n",
    "Utilizando los metodos min() y max() obtenemos las fechas minimas y maximas de la columna 'Review Date'"
   ]
  },
  {
   "cell_type": "code",
   "source": [
    "fecha_menor = datos[\"Review Date\"].min()\n",
    "print(f\"Fecha Menor: {fecha_menor}\")\n",
    "fecha_mayor = datos[\"Review Date\"].max()\n",
    "print(f\"Fecha Mayor: {fecha_mayor}\")\n",
    "rango = fecha_mayor - fecha_menor\n",
    "print(rango)\n",
    "print(f\"Rango: las fechas van desde {fecha_menor} hasta {fecha_mayor}\")"
   ],
   "metadata": {
    "colab": {
     "base_uri": "https://localhost:8080/"
    },
    "id": "IUpSK-kv_wjR",
    "outputId": "1ffa289f-95bf-480a-f49f-8de26a53063f",
    "ExecuteTime": {
     "end_time": "2024-04-16T20:41:40.016656Z",
     "start_time": "2024-04-16T20:41:40.012451Z"
    }
   },
   "outputs": [
    {
     "name": "stdout",
     "output_type": "stream",
     "text": [
      "Fecha Menor: 2016-03-22 00:00:00\n",
      "Fecha Mayor: 2024-03-06 00:00:00\n",
      "2906 days 00:00:00\n",
      "Rango: las fechas van desde 2016-03-22 00:00:00 hasta 2024-03-06 00:00:00\n"
     ]
    }
   ],
   "execution_count": 22
  },
  {
   "cell_type": "markdown",
   "source": "c. ¿Cuáles aerolíneas registran por lo menos un comentario?",
   "metadata": {
    "id": "TLQAU-TjFMZo"
   }
  },
  {
   "cell_type": "code",
   "source": [
    "# Primero, filtra las filas donde 'Reviews' no es nulo\n",
    "datos_con_reviews = datos[datos['Reviews'].notnull()]\n",
    "# Luego, cuenta las aerolíneas únicas en las filas filtradas\n",
    "num_aerolineas_con_reviews = datos_con_reviews['Airline'].nunique()\n",
    "num_aerolineas_con_reviews"
   ],
   "metadata": {
    "id": "C0tGZ9WD6SwQ",
    "colab": {
     "base_uri": "https://localhost:8080/"
    },
    "outputId": "0ac15c9b-fbf8-46f0-cbbb-9d2df1019ad1",
    "ExecuteTime": {
     "end_time": "2024-04-16T21:18:44.237918Z",
     "start_time": "2024-04-16T21:18:44.229710Z"
    }
   },
   "outputs": [
    {
     "data": {
      "text/plain": [
       "10"
      ]
     },
     "execution_count": 25,
     "metadata": {},
     "output_type": "execute_result"
    }
   ],
   "execution_count": 25
  },
  {
   "metadata": {},
   "cell_type": "markdown",
   "source": "d.¿Cuál es el promedio de comentarios de cada aerolínea por año?"
  },
  {
   "cell_type": "code",
   "source": [
    "# Creamos una columna extra con el Año\n",
    "datos['Año'] = datos['Review Date'].dt.year\n",
    "datos.head()"
   ],
   "metadata": {
    "colab": {
     "base_uri": "https://localhost:8080/",
     "height": 573
    },
    "id": "VOA4fcR7HP9K",
    "outputId": "ceb23f75-606d-4027-cfd6-b428e407e286",
    "ExecuteTime": {
     "end_time": "2024-04-16T21:19:40.248619Z",
     "start_time": "2024-04-16T21:19:40.239821Z"
    }
   },
   "outputs": [
    {
     "data": {
      "text/plain": [
       "                                  Title              Name Review Date  \\\n",
       "0                    Flight was amazing  Alison Soetantyo  2024-03-01   \n",
       "1  seats on this aircraft are dreadful      Robert Watson  2024-02-21   \n",
       "2          Food was plentiful and tasty             S Han  2024-02-20   \n",
       "3          “how much food was available          D Laynes  2024-02-19   \n",
       "4       “service was consistently good”         A Othman   2024-02-19   \n",
       "\n",
       "              Airline Verified  \\\n",
       "0  Singapore Airlines     True   \n",
       "1  Singapore Airlines     True   \n",
       "2  Singapore Airlines     True   \n",
       "3  Singapore Airlines     True   \n",
       "4  Singapore Airlines     True   \n",
       "\n",
       "                                             Reviews Type of Traveller  \\\n",
       "0    Flight was amazing. The crew onboard this fl...      Solo Leisure   \n",
       "1    Booking an emergency exit seat still meant h...      Solo Leisure   \n",
       "2    Excellent performance on all fronts. I would...    Family Leisure   \n",
       "3   Pretty comfortable flight considering I was f...      Solo Leisure   \n",
       "4   The service was consistently good from start ...    Family Leisure   \n",
       "\n",
       "     Month Flown                         Route           Class  Seat Comfort  \\\n",
       "0  December 2023          Jakarta to Singapore  Business Class             4   \n",
       "1  February 2024           Phuket to Singapore   Economy Class             5   \n",
       "2  February 2024        Siem Reap to Singapore   Economy Class             1   \n",
       "3  February 2024  Singapore to London Heathrow   Economy Class             5   \n",
       "4  February 2024       Singapore to Phnom Penh   Economy Class             5   \n",
       "\n",
       "   Staff Service  Food & Beverages  Inflight Entertainment  Value For Money  \\\n",
       "0              4                 4                       4                4   \n",
       "1              3                 4                       4                1   \n",
       "2              5                 2                       1                5   \n",
       "3              5                 5                       5                5   \n",
       "4              5                 5                       5                5   \n",
       "\n",
       "   Overall Rating Recommended   Año  \n",
       "0               9         yes  2024  \n",
       "1               3          no  2024  \n",
       "2              10         yes  2024  \n",
       "3              10         yes  2024  \n",
       "4              10         yes  2024  "
      ],
      "text/html": [
       "<div>\n",
       "<style scoped>\n",
       "    .dataframe tbody tr th:only-of-type {\n",
       "        vertical-align: middle;\n",
       "    }\n",
       "\n",
       "    .dataframe tbody tr th {\n",
       "        vertical-align: top;\n",
       "    }\n",
       "\n",
       "    .dataframe thead th {\n",
       "        text-align: right;\n",
       "    }\n",
       "</style>\n",
       "<table border=\"1\" class=\"dataframe\">\n",
       "  <thead>\n",
       "    <tr style=\"text-align: right;\">\n",
       "      <th></th>\n",
       "      <th>Title</th>\n",
       "      <th>Name</th>\n",
       "      <th>Review Date</th>\n",
       "      <th>Airline</th>\n",
       "      <th>Verified</th>\n",
       "      <th>Reviews</th>\n",
       "      <th>Type of Traveller</th>\n",
       "      <th>Month Flown</th>\n",
       "      <th>Route</th>\n",
       "      <th>Class</th>\n",
       "      <th>Seat Comfort</th>\n",
       "      <th>Staff Service</th>\n",
       "      <th>Food &amp; Beverages</th>\n",
       "      <th>Inflight Entertainment</th>\n",
       "      <th>Value For Money</th>\n",
       "      <th>Overall Rating</th>\n",
       "      <th>Recommended</th>\n",
       "      <th>Año</th>\n",
       "    </tr>\n",
       "  </thead>\n",
       "  <tbody>\n",
       "    <tr>\n",
       "      <th>0</th>\n",
       "      <td>Flight was amazing</td>\n",
       "      <td>Alison Soetantyo</td>\n",
       "      <td>2024-03-01</td>\n",
       "      <td>Singapore Airlines</td>\n",
       "      <td>True</td>\n",
       "      <td>Flight was amazing. The crew onboard this fl...</td>\n",
       "      <td>Solo Leisure</td>\n",
       "      <td>December 2023</td>\n",
       "      <td>Jakarta to Singapore</td>\n",
       "      <td>Business Class</td>\n",
       "      <td>4</td>\n",
       "      <td>4</td>\n",
       "      <td>4</td>\n",
       "      <td>4</td>\n",
       "      <td>4</td>\n",
       "      <td>9</td>\n",
       "      <td>yes</td>\n",
       "      <td>2024</td>\n",
       "    </tr>\n",
       "    <tr>\n",
       "      <th>1</th>\n",
       "      <td>seats on this aircraft are dreadful</td>\n",
       "      <td>Robert Watson</td>\n",
       "      <td>2024-02-21</td>\n",
       "      <td>Singapore Airlines</td>\n",
       "      <td>True</td>\n",
       "      <td>Booking an emergency exit seat still meant h...</td>\n",
       "      <td>Solo Leisure</td>\n",
       "      <td>February 2024</td>\n",
       "      <td>Phuket to Singapore</td>\n",
       "      <td>Economy Class</td>\n",
       "      <td>5</td>\n",
       "      <td>3</td>\n",
       "      <td>4</td>\n",
       "      <td>4</td>\n",
       "      <td>1</td>\n",
       "      <td>3</td>\n",
       "      <td>no</td>\n",
       "      <td>2024</td>\n",
       "    </tr>\n",
       "    <tr>\n",
       "      <th>2</th>\n",
       "      <td>Food was plentiful and tasty</td>\n",
       "      <td>S Han</td>\n",
       "      <td>2024-02-20</td>\n",
       "      <td>Singapore Airlines</td>\n",
       "      <td>True</td>\n",
       "      <td>Excellent performance on all fronts. I would...</td>\n",
       "      <td>Family Leisure</td>\n",
       "      <td>February 2024</td>\n",
       "      <td>Siem Reap to Singapore</td>\n",
       "      <td>Economy Class</td>\n",
       "      <td>1</td>\n",
       "      <td>5</td>\n",
       "      <td>2</td>\n",
       "      <td>1</td>\n",
       "      <td>5</td>\n",
       "      <td>10</td>\n",
       "      <td>yes</td>\n",
       "      <td>2024</td>\n",
       "    </tr>\n",
       "    <tr>\n",
       "      <th>3</th>\n",
       "      <td>“how much food was available</td>\n",
       "      <td>D Laynes</td>\n",
       "      <td>2024-02-19</td>\n",
       "      <td>Singapore Airlines</td>\n",
       "      <td>True</td>\n",
       "      <td>Pretty comfortable flight considering I was f...</td>\n",
       "      <td>Solo Leisure</td>\n",
       "      <td>February 2024</td>\n",
       "      <td>Singapore to London Heathrow</td>\n",
       "      <td>Economy Class</td>\n",
       "      <td>5</td>\n",
       "      <td>5</td>\n",
       "      <td>5</td>\n",
       "      <td>5</td>\n",
       "      <td>5</td>\n",
       "      <td>10</td>\n",
       "      <td>yes</td>\n",
       "      <td>2024</td>\n",
       "    </tr>\n",
       "    <tr>\n",
       "      <th>4</th>\n",
       "      <td>“service was consistently good”</td>\n",
       "      <td>A Othman</td>\n",
       "      <td>2024-02-19</td>\n",
       "      <td>Singapore Airlines</td>\n",
       "      <td>True</td>\n",
       "      <td>The service was consistently good from start ...</td>\n",
       "      <td>Family Leisure</td>\n",
       "      <td>February 2024</td>\n",
       "      <td>Singapore to Phnom Penh</td>\n",
       "      <td>Economy Class</td>\n",
       "      <td>5</td>\n",
       "      <td>5</td>\n",
       "      <td>5</td>\n",
       "      <td>5</td>\n",
       "      <td>5</td>\n",
       "      <td>10</td>\n",
       "      <td>yes</td>\n",
       "      <td>2024</td>\n",
       "    </tr>\n",
       "  </tbody>\n",
       "</table>\n",
       "</div>"
      ]
     },
     "execution_count": 26,
     "metadata": {},
     "output_type": "execute_result"
    }
   ],
   "execution_count": 26
  },
  {
   "cell_type": "code",
   "source": [
    "# Agrupar por aerolínea y año, contar el número de comentarios y calcular el promedio\n",
    "comentarios_por_aerolinea = datos.groupby(['Airline', 'Año']).size()  #.groupby('Airline').mean()\n",
    "\n",
    "# Imprimir el resultado\n",
    "print(comentarios_por_aerolinea)"
   ],
   "metadata": {
    "id": "t-mstg6XH_pU",
    "ExecuteTime": {
     "end_time": "2024-04-16T21:22:25.837891Z",
     "start_time": "2024-04-16T21:22:25.830687Z"
    }
   },
   "outputs": [
    {
     "name": "stdout",
     "output_type": "stream",
     "text": [
      "Airline           Año \n",
      "Air France        2016     63\n",
      "                  2017    135\n",
      "                  2018    142\n",
      "                  2019    128\n",
      "                  2020     49\n",
      "                         ... \n",
      "Turkish Airlines  2020    150\n",
      "                  2021    192\n",
      "                  2022    230\n",
      "                  2023    219\n",
      "                  2024     37\n",
      "Length: 89, dtype: int64\n"
     ]
    }
   ],
   "execution_count": 27
  },
  {
   "metadata": {},
   "cell_type": "code",
   "outputs": [],
   "execution_count": null,
   "source": ""
  }
 ]
}
