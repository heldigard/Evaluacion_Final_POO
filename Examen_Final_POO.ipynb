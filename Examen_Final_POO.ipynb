{
 "nbformat": 4,
 "nbformat_minor": 0,
 "metadata": {
  "colab": {
   "provenance": []
  },
  "kernelspec": {
   "name": "python3",
   "display_name": "Python 3 (ipykernel)",
   "language": "python"
  },
  "language_info": {
   "name": "python"
  }
 },
 "cells": [
  {
   "cell_type": "markdown",
   "source": [
    "#Sistema de información para la gestión de la Droguería EIA"
   ],
   "metadata": {
    "id": "hbt7Z9AadO2G"
   }
  },
  {
   "metadata": {},
   "cell_type": "markdown",
   "source": "Integrantes: Kelly Alvarez, Eldigardo Camacho"
  },
  {
   "cell_type": "markdown",
   "source": [
    "* De cada medicamento se quiere almacenar el sku (código alfanumérico para identificar el medicamento), el nombre comercial, el nombre genérico, el precio sin impuesto, el valor del impuesto, el peso del contenido en gramos y la cantidad de unidades en existencia.\n",
    "* Los medicamentos de venta libre tienen un detalle de las contraindicaciones que puede generar.\n",
    "* Los medicamentos de venta restringida tienen la información de la dosis máxima que se puede consumir y los datos del médico que autoriza la venta."
   ],
   "metadata": {
    "id": "hnqWfoT6f6iZ"
   }
  },
  {
   "metadata": {},
   "cell_type": "markdown",
   "source": [
    "Simular 3 ventas a clientes diferentes que lleven medicamentos de venta libre y restringidos\n",
    "Muestre en pantalla el estado del inventario antes y despues de las ventas\n",
    "Muestre cada una de las facturas de las ventas"
   ]
  },
  {
   "metadata": {},
   "cell_type": "markdown",
   "source": "Como primer paso importamos Drogueria"
  },
  {
   "cell_type": "code",
   "source": "from Drogueria import Drogueria",
   "metadata": {
    "id": "bw4B6txXFsjD",
    "ExecuteTime": {
     "end_time": "2024-04-16T04:11:46.202824Z",
     "start_time": "2024-04-16T04:11:46.193065Z"
    }
   },
   "outputs": [],
   "execution_count": 1
  },
  {
   "metadata": {},
   "cell_type": "markdown",
   "source": "Creamos la drogueria e inicializamos la base de datos de medicamentos, clientes y medicos desde los archivos de texto plano .csv"
  },
  {
   "cell_type": "code",
   "source": [
    "drogueria = Drogueria('Droguería', '123456789', '123456789')\n",
    "drogueria.inicializar_datos()"
   ],
   "metadata": {
    "id": "f3CwtjMdF4zG",
    "ExecuteTime": {
     "end_time": "2024-04-16T04:11:46.207583Z",
     "start_time": "2024-04-16T04:11:46.203765Z"
    }
   },
   "outputs": [],
   "execution_count": 2
  },
  {
   "metadata": {},
   "cell_type": "markdown",
   "source": "Mostramos el estado actual del inventario completo"
  },
  {
   "metadata": {
    "ExecuteTime": {
     "end_time": "2024-04-16T04:11:46.211175Z",
     "start_time": "2024-04-16T04:11:46.207583Z"
    }
   },
   "cell_type": "code",
   "source": "drogueria.mostrar_inventario()",
   "outputs": [
    {
     "name": "stdout",
     "output_type": "stream",
     "text": [
      "\n",
      "Inventario de Medicamentos\n",
      "------------------------------------------------------------------------------------------------------------------------------------------------------------------------------------------------------------------------------------------\n",
      "SKU\t                Nombre Comercial\t                Nombre Generico   \t                Precio\t                Peso\t                Cant\t                Restr\t                IVA\t                Info\n",
      "------------------------------------------------------------------------------------------------------------------------------------------------------------------------------------------------------------------------------------------\n",
      "MED001  \t        Acetaminofén        \t        Paracetamol         \t            1500.0\t\t        10 mg   \t                20\t\t\t        NO        \t              0.19\t\t        Contraindicaciones: ['enfermedad hepática grave', ' enfermedad renal con uremia']\n",
      "MED002  \t        Ibuprofeno          \t        Ibuprofeno          \t            2000.0\t\t        200 mg  \t                10\t\t\t        NO        \t              0.19\t\t        Contraindicaciones: ['úlceras', ' hemorragias']\n",
      "MED003  \t        Aspirina            \t        AAS                 \t            1000.0\t\t        500 mg  \t                30\t\t\t        NO        \t              0.19\t\t        Contraindicaciones: ['úlcera gastrointestinal', ' molestias gástricas de repetición']\n",
      "MED004  \t        Loratadina          \t        Loratadina          \t            5000.0\t\t        10 mg   \t                15\t\t\t        NO        \t              0.19\t\t        Contraindicaciones: ['insuficiencia hepática', ' asma aguda']\n",
      "MED005  \t        Cetirizina          \t        Cetirizina          \t            4000.0\t\t        10 mg   \t                20\t\t\t        NO        \t              0.19\t\t        Contraindicaciones: ['somnolencia', ' cansancio excesivo']\n",
      "MED006  \t        Omeprazol           \t        Omeprazol           \t            7000.0\t\t        20 mg   \t                14\t\t\t        NO        \t              0.19\t\t        Contraindicaciones: ['sarpullido', ' urticaria']\n",
      "MED007  \t        Metformina          \t        Metformina          \t            3500.0\t\t        500 mg  \t                30\t\t\t        SI        \t              0.19\t\t        Dosis: 650 mg \t\n",
      "MED008  \t        Losartan            \t        Losartan            \t            8000.0\t\t        50 mg   \t                30\t\t\t        SI        \t              0.19\t\t        Dosis: 750 mg \t\n",
      "MED009  \t        Atorvastatina       \t        Atorvastatina       \t           12000.0\t\t        10 mg   \t                30\t\t\t        SI        \t              0.19\t\t        Dosis: 300 mg \t\n",
      "MED010  \t        Alprazolam          \t        Alprazolam          \t            6000.0\t\t        0.5 mg  \t                30\t\t\t        SI        \t              0.19\t\t        Dosis: 290 mg \t\n",
      "MED011  \t        Diazepam            \t        Diazepam            \t            4500.0\t\t        5 mg    \t                20\t\t\t        SI        \t              0.19\t\t        Dosis: 120 mg \t\n",
      "MED012  \t        Amoxicilina         \t        Amoxicilina         \t            8500.0\t\t        500 mg  \t                20\t\t\t        SI        \t              0.19\t\t        Dosis: 700 mg \t\n",
      "MED013  \t        Azitromicina        \t        Azitromicina        \t           11000.0\t\t        500 mg  \t                 6\t\t\t        SI        \t              0.19\t\t        Dosis: 860 mg \t\n",
      "MED014  \t        Ciprofloxacino      \t        Ciprofloxacino      \t            9000.0\t\t        500 mg  \t                10\t\t\t        SI        \t              0.19\t\t        Dosis: 75 mg  \t\n",
      "MED015  \t        Levotiroxina        \t        Levotiroxina        \t            5500.0\t\t        100 mcg \t                30\t\t\t        SI        \t              0.19\t\t        Dosis: 67 mcg \t\n",
      "MED016  \t        Salbutamol          \t        Salbutamol          \t            4000.0\t\t        100 mcg/ml\t                 1\t\t\t        NO        \t              0.19\t\t        Contraindicaciones: ['diabetes mellitus', ' infecciones virales']\n",
      "MED017  \t        Dexametasona        \t        Dexametasona        \t            3000.0\t\t        0.5 mg  \t                20\t\t\t        SI        \t              0.19\t\t        Dosis: 85 mg  \t\n",
      "MED018  \t        Prednisona          \t        Prednisona          \t            2500.0\t\t        5 mg    \t                30\t\t\t        SI        \t              0.19\t\t        Dosis: 150 mg \t\n",
      "MED019  \t        Fluoxetina          \t        Fluoxetina          \t            1200.0\t\t        100 mg  \t                10\t\t\t        SI        \t              0.19\t\t        Dosis: 20mg   \t\n",
      "MED020  \t        Keppra              \t        Levetiracetam       \t            1000.0\t\t        500 mg  \t                30\t\t\t        SI        \t              0.19\t\t        Dosis: 60mg   \t\n"
     ]
    }
   ],
   "execution_count": 3
  },
  {
   "metadata": {},
   "cell_type": "markdown",
   "source": "Ver unicamente las cantidades de los medicamentos"
  },
  {
   "cell_type": "code",
   "source": "drogueria.mostrar_inventario_cantidades()",
   "metadata": {
    "id": "E-g7wz6nFxCx",
    "ExecuteTime": {
     "end_time": "2024-04-16T04:11:46.214592Z",
     "start_time": "2024-04-16T04:11:46.211175Z"
    }
   },
   "outputs": [
    {
     "name": "stdout",
     "output_type": "stream",
     "text": [
      "\n",
      "Resumen de Medicamentos\n",
      "---------------------------------------------------------------\n",
      "SKU\t                Nombre Comercial\t                Cant\t\n",
      "---------------------------------------------------------------\n",
      "MED001\t            Acetaminofén        \t            20\n",
      "MED002\t            Ibuprofeno          \t            10\n",
      "MED003\t            Aspirina            \t            30\n",
      "MED004\t            Loratadina          \t            15\n",
      "MED005\t            Cetirizina          \t            20\n",
      "MED006\t            Omeprazol           \t            14\n",
      "MED007\t            Metformina          \t            30\n",
      "MED008\t            Losartan            \t            30\n",
      "MED009\t            Atorvastatina       \t            30\n",
      "MED010\t            Alprazolam          \t            30\n",
      "MED011\t            Diazepam            \t            20\n",
      "MED012\t            Amoxicilina         \t            20\n",
      "MED013\t            Azitromicina        \t            6\n",
      "MED014\t            Ciprofloxacino      \t            10\n",
      "MED015\t            Levotiroxina        \t            30\n",
      "MED016\t            Salbutamol          \t            1\n",
      "MED017\t            Dexametasona        \t            20\n",
      "MED018\t            Prednisona          \t            30\n",
      "MED019\t            Fluoxetina          \t            10\n",
      "MED020\t            Keppra              \t            30\n"
     ]
    }
   ],
   "execution_count": 4
  },
  {
   "metadata": {},
   "cell_type": "markdown",
   "source": "Simulamos las ventas, a continuacion los metodos encargados de generar aleatoriamente detalles de factura y facturas"
  },
  {
   "cell_type": "code",
   "source": [
    "from Factura import Factura\n",
    "from DetalleFactura import DetalleFactura\n",
    "from Medico import Medico\n",
    "from MedicamentoVentaRestringida import MedicamentoVentaRestringida\n",
    "from MedicamentoVentaLibre import MedicamentoVentaLibre\n",
    "import random"
   ],
   "metadata": {
    "id": "xoQwHLo2hI9V",
    "ExecuteTime": {
     "end_time": "2024-04-16T04:11:46.218511Z",
     "start_time": "2024-04-16T04:11:46.215596Z"
    }
   },
   "outputs": [],
   "execution_count": 5
  },
  {
   "metadata": {},
   "cell_type": "markdown",
   "source": "Seleccionamos medicamentos y cantidades al azar"
  },
  {
   "cell_type": "code",
   "source": [
    "def generar_detalles_factura():\n",
    "    detalles_factura = []\n",
    "    for contador in range(random.randint(1, 5)):\n",
    "        medicamento_sku = random.choice(list(drogueria.inventario.keys()))\n",
    "        medicamento = drogueria.inventario[medicamento_sku]\n",
    "        if medicamento.cantidad_stock > 0:\n",
    "            cantidad = random.randint(1, medicamento.cantidad_stock)\n",
    "            if drogueria.vender_medicamento(medicamento.sku, cantidad):\n",
    "                detalle_factura = DetalleFactura(medicamento, cantidad)\n",
    "\n",
    "                if type(medicamento) is MedicamentoVentaRestringida:\n",
    "                    medico: Medico = random.choice(drogueria.medicos)\n",
    "                    medicamento: MedicamentoVentaRestringida = medicamento\n",
    "                    medicamento.medico = medico\n",
    "\n",
    "                detalles_factura.append(detalle_factura)\n",
    "\n",
    "    return detalles_factura"
   ],
   "metadata": {
    "id": "Ek3HaMBiGzWo",
    "ExecuteTime": {
     "end_time": "2024-04-16T04:11:46.222349Z",
     "start_time": "2024-04-16T04:11:46.218511Z"
    }
   },
   "outputs": [],
   "execution_count": 6
  },
  {
   "metadata": {},
   "cell_type": "markdown",
   "source": "Adicionamos dellates de venta a la factura"
  },
  {
   "metadata": {
    "ExecuteTime": {
     "end_time": "2024-04-16T04:11:46.225467Z",
     "start_time": "2024-04-16T04:11:46.222349Z"
    }
   },
   "cell_type": "code",
   "source": [
    "def crear_detalles_factura(factura: Factura):\n",
    "    for detalle in generar_detalles_factura():\n",
    "        factura.agregar_detalle(detalle)"
   ],
   "outputs": [],
   "execution_count": 7
  },
  {
   "metadata": {},
   "cell_type": "markdown",
   "source": "Agregamos el cliente a la factura"
  },
  {
   "metadata": {
    "ExecuteTime": {
     "end_time": "2024-04-16T04:11:46.228482Z",
     "start_time": "2024-04-16T04:11:46.225977Z"
    }
   },
   "cell_type": "code",
   "source": [
    "def add_cliente_factura(factura: Factura):\n",
    "    cliente_cedula = random.choice(list(drogueria.clientes.keys()))\n",
    "    cliente = drogueria.clientes[cliente_cedula]\n",
    "    factura.cliente = cliente"
   ],
   "outputs": [],
   "execution_count": 8
  },
  {
   "metadata": {},
   "cell_type": "markdown",
   "source": "Calculamos sutbtotal, total de la factura y la agregamos al listado de facturas de la Drogueria"
  },
  {
   "cell_type": "code",
   "source": [
    "def add_factura_drogueria(factura: Factura):\n",
    "    factura.facturar()\n",
    "    drogueria.add_factura(factura)"
   ],
   "metadata": {
    "id": "2kAar_yvJ_2m",
    "ExecuteTime": {
     "end_time": "2024-04-16T04:11:46.231559Z",
     "start_time": "2024-04-16T04:11:46.228482Z"
    }
   },
   "outputs": [],
   "execution_count": 9
  },
  {
   "metadata": {},
   "cell_type": "markdown",
   "source": "Aleatoriamente, generamos de 3 a 5 facturas"
  },
  {
   "metadata": {
    "ExecuteTime": {
     "end_time": "2024-04-16T04:11:46.236270Z",
     "start_time": "2024-04-16T04:11:46.231559Z"
    }
   },
   "cell_type": "code",
   "source": [
    "def generar_ventas():\n",
    "    for contador in range(random.randint(3, 6)):\n",
    "        nueva_factura = Factura(\n",
    "            empresa=drogueria.empresa,\n",
    "            nit=drogueria.nit,\n",
    "            razon_social=drogueria.razon_social\n",
    "        )\n",
    "        crear_detalles_factura(nueva_factura)\n",
    "        add_cliente_factura(nueva_factura)\n",
    "        add_factura_drogueria(nueva_factura)"
   ],
   "outputs": [],
   "execution_count": 10
  },
  {
   "metadata": {},
   "cell_type": "markdown",
   "source": "Mostramos estado del inventario luego de las ventas"
  },
  {
   "metadata": {
    "ExecuteTime": {
     "end_time": "2024-04-16T04:11:46.240672Z",
     "start_time": "2024-04-16T04:11:46.237275Z"
    }
   },
   "cell_type": "code",
   "source": [
    "generar_ventas()\n",
    "drogueria.mostrar_inventario_cantidades()"
   ],
   "outputs": [
    {
     "name": "stdout",
     "output_type": "stream",
     "text": [
      "\n",
      "Resumen de Medicamentos\n",
      "---------------------------------------------------------------\n",
      "SKU\t                Nombre Comercial\t                Cant\t\n",
      "---------------------------------------------------------------\n",
      "MED001\t            Acetaminofén        \t            1\n",
      "MED002\t            Ibuprofeno          \t            2\n",
      "MED003\t            Aspirina            \t            19\n",
      "MED004\t            Loratadina          \t            8\n",
      "MED005\t            Cetirizina          \t            20\n",
      "MED006\t            Omeprazol           \t            14\n",
      "MED007\t            Metformina          \t            30\n",
      "MED008\t            Losartan            \t            30\n",
      "MED009\t            Atorvastatina       \t            19\n",
      "MED010\t            Alprazolam          \t            30\n",
      "MED011\t            Diazepam            \t            2\n",
      "MED012\t            Amoxicilina         \t            13\n",
      "MED013\t            Azitromicina        \t            6\n",
      "MED014\t            Ciprofloxacino      \t            10\n",
      "MED015\t            Levotiroxina        \t            30\n",
      "MED016\t            Salbutamol          \t            0\n",
      "MED017\t            Dexametasona        \t            6\n",
      "MED018\t            Prednisona          \t            0\n",
      "MED019\t            Fluoxetina          \t            6\n",
      "MED020\t            Keppra              \t            14\n"
     ]
    }
   ],
   "execution_count": 11
  },
  {
   "metadata": {},
   "cell_type": "markdown",
   "source": "Mostramos las facturas de las ventas"
  },
  {
   "metadata": {
    "ExecuteTime": {
     "end_time": "2024-04-16T04:11:46.244798Z",
     "start_time": "2024-04-16T04:11:46.240672Z"
    }
   },
   "cell_type": "code",
   "source": [
    "for factura in drogueria.facturas:\n",
    "    print(\"-\" * 100)\n",
    "    print(f\"{factura}\\n\\n\")"
   ],
   "outputs": [
    {
     "name": "stdout",
     "output_type": "stream",
     "text": [
      "----------------------------------------------------------------------------------------------------\n",
      "Droguería EIA SAS BIC\n",
      "NIT: 901456234-8\n",
      "Razon Social: Droguería EIA SAS BIC\n",
      "\n",
      "Factura: 8055\n",
      "Fecha: 2024-04-15 23:11:46.238275\n",
      "\n",
      "Info Cliente\n",
      "Cedula    \t        Nombre              \t        Telefono          \t        Direccion \n",
      "654321098  \t        David Martínez      \t        318 901 2345 \t\t        Carrera 45 # 20-30  \n",
      "\n",
      "#Item\t        Nombre              \t        Peso    \t        Precio  \t        Cant\t        Subtotal\t        Total  \n",
      "1 \t            Prednisona          \t        5 mg \t            2500.0\t              27\t           67500.0\t        80325.0\n",
      "Dosis: 150 mg \tMedico: Dr. Carlos López    \t        312 345 6789 \t\t        Especialidad: Medicina Interna\n",
      "\n",
      "2 \t            Acetaminofén        \t        10 mg\t            1500.0\t              19\t           28500.0\t        33915.0\n",
      "Contraindicaciones: ['enfermedad hepática grave', ' enfermedad renal con uremia']\n",
      "\n",
      "\n",
      "Subtotal: 96000.0\n",
      "Total: 114240.0\n",
      "\n",
      "\n",
      "\n",
      "\n",
      "----------------------------------------------------------------------------------------------------\n",
      "Droguería EIA SAS BIC\n",
      "NIT: 901456234-8\n",
      "Razon Social: Droguería EIA SAS BIC\n",
      "\n",
      "Factura: 4281\n",
      "Fecha: 2024-04-15 23:11:46.238275\n",
      "\n",
      "Info Cliente\n",
      "Cedula    \t        Nombre              \t        Telefono          \t        Direccion \n",
      "432109876  \t        Roberto García      \t        322 678 9012 \t\t        Calle 100 # 30-40   \n",
      "\n",
      "#Item\t        Nombre              \t        Peso    \t        Precio  \t        Cant\t        Subtotal\t        Total  \n",
      "1 \t            Ibuprofeno          \t        200 mg\t            2000.0\t               8\t           16000.0\t        19040.0\n",
      "Contraindicaciones: ['úlceras', ' hemorragias']\n",
      "\n",
      "\n",
      "Subtotal: 16000.0\n",
      "Total: 19040.0\n",
      "\n",
      "\n",
      "\n",
      "\n",
      "----------------------------------------------------------------------------------------------------\n",
      "Droguería EIA SAS BIC\n",
      "NIT: 901456234-8\n",
      "Razon Social: Droguería EIA SAS BIC\n",
      "\n",
      "Factura: 2381\n",
      "Fecha: 2024-04-15 23:11:46.238275\n",
      "\n",
      "Info Cliente\n",
      "Cedula    \t        Nombre              \t        Telefono          \t        Direccion \n",
      "210987654  \t        Diego Torres        \t        326 901 5678 \t\t        Avenida Pepe Sierra # 20-30\n",
      "\n",
      "#Item\t        Nombre              \t        Peso    \t        Precio  \t        Cant\t        Subtotal\t        Total  \n",
      "1 \t            Fluoxetina          \t        100 mg\t            1200.0\t               4\t            4800.0\t        5712.0\n",
      "Dosis: 20mg   \tMedico: Dr. Alejandro Martínez\t        316 567 8901 \t\t        Especialidad: Cardiología\n",
      "\n",
      "2 \t            Atorvastatina       \t        10 mg\t           12000.0\t               6\t           72000.0\t        85680.0\n",
      "Dosis: 300 mg \tMedico: Dra. Paula Torres   \t        326 901 5678 \t\t        Especialidad: Psiquiatría\n",
      "\n",
      "3 \t            Diazepam            \t        5 mg \t            4500.0\t              18\t           81000.0\t        96390.0\n",
      "Dosis: 120 mg \tMedico: Dr. David Sánchez   \t        324 567 2345 \t\t        Especialidad: Neurología\n",
      "\n",
      "4 \t            Salbutamol          \t        100 mcg/ml\t            4000.0\t               1\t            4000.0\t        4760.0\n",
      "Contraindicaciones: ['diabetes mellitus', ' infecciones virales']\n",
      "\n",
      "5 \t            Dexametasona        \t        0.5 mg\t            3000.0\t               8\t           24000.0\t        28560.0\n",
      "Dosis: 85 mg  \tMedico: Dr. David Sánchez   \t        324 567 2345 \t\t        Especialidad: Neurología\n",
      "\n",
      "\n",
      "Subtotal: 185800.0\n",
      "Total: 221102.0\n",
      "\n",
      "\n",
      "\n",
      "\n",
      "----------------------------------------------------------------------------------------------------\n",
      "Droguería EIA SAS BIC\n",
      "NIT: 901456234-8\n",
      "Razon Social: Droguería EIA SAS BIC\n",
      "\n",
      "Factura: 8179\n",
      "Fecha: 2024-04-15 23:11:46.238275\n",
      "\n",
      "Info Cliente\n",
      "Cedula    \t        Nombre              \t        Telefono          \t        Direccion \n",
      "210987654  \t        Diego Torres        \t        326 901 5678 \t\t        Avenida Pepe Sierra # 20-30\n",
      "\n",
      "#Item\t        Nombre              \t        Peso    \t        Precio  \t        Cant\t        Subtotal\t        Total  \n",
      "1 \t            Amoxicilina         \t        500 mg\t            8500.0\t               7\t           59500.0\t        70805.0\n",
      "Dosis: 700 mg \tMedico: Dra. Juliana Ramírez\t        314 123 4567 \t\t        Especialidad: Pediatría\n",
      "\n",
      "2 \t            Dexametasona        \t        0.5 mg\t            3000.0\t               6\t           18000.0\t        21420.0\n",
      "Dosis: 85 mg  \tMedico: Dr. David Sánchez   \t        324 567 2345 \t\t        Especialidad: Neurología\n",
      "\n",
      "3 \t            Aspirina            \t        500 mg\t            1000.0\t              11\t           11000.0\t        13090.0\n",
      "Contraindicaciones: ['úlcera gastrointestinal', ' molestias gástricas de repetición']\n",
      "\n",
      "4 \t            Prednisona          \t        5 mg \t            2500.0\t               3\t            7500.0\t        8925.0\n",
      "Dosis: 150 mg \tMedico: Dr. Carlos López    \t        312 345 6789 \t\t        Especialidad: Medicina Interna\n",
      "\n",
      "\n",
      "Subtotal: 96000.0\n",
      "Total: 114240.0\n",
      "\n",
      "\n",
      "\n",
      "\n",
      "----------------------------------------------------------------------------------------------------\n",
      "Droguería EIA SAS BIC\n",
      "NIT: 901456234-8\n",
      "Razon Social: Droguería EIA SAS BIC\n",
      "\n",
      "Factura: 6456\n",
      "Fecha: 2024-04-15 23:11:46.239275\n",
      "\n",
      "Info Cliente\n",
      "Cedula    \t        Nombre              \t        Telefono          \t        Direccion \n",
      "432109876  \t        Roberto García      \t        322 678 9012 \t\t        Calle 100 # 30-40   \n",
      "\n",
      "#Item\t        Nombre              \t        Peso    \t        Precio  \t        Cant\t        Subtotal\t        Total  \n",
      "1 \t            Keppra              \t        500 mg\t            1000.0\t               9\t            9000.0\t        10710.0\n",
      "Dosis: 60mg   \tMedico: Dr. Andrés Herrera  \t        328 234 8901 \t\t        Especialidad: Traumatología\n",
      "\n",
      "\n",
      "Subtotal: 9000.0\n",
      "Total: 10710.0\n",
      "\n",
      "\n",
      "\n",
      "\n",
      "----------------------------------------------------------------------------------------------------\n",
      "Droguería EIA SAS BIC\n",
      "NIT: 901456234-8\n",
      "Razon Social: Droguería EIA SAS BIC\n",
      "\n",
      "Factura: 1773\n",
      "Fecha: 2024-04-15 23:11:46.239275\n",
      "\n",
      "Info Cliente\n",
      "Cedula    \t        Nombre              \t        Telefono          \t        Direccion \n",
      "210987654  \t        Diego Torres        \t        326 901 5678 \t\t        Avenida Pepe Sierra # 20-30\n",
      "\n",
      "#Item\t        Nombre              \t        Peso    \t        Precio  \t        Cant\t        Subtotal\t        Total  \n",
      "1 \t            Atorvastatina       \t        10 mg\t           12000.0\t               5\t           60000.0\t        71400.0\n",
      "Dosis: 300 mg \tMedico: Dra. Paula Torres   \t        326 901 5678 \t\t        Especialidad: Psiquiatría\n",
      "\n",
      "2 \t            Loratadina          \t        10 mg\t            5000.0\t               7\t           35000.0\t        41650.0\n",
      "Contraindicaciones: ['insuficiencia hepática', ' asma aguda']\n",
      "\n",
      "3 \t            Keppra              \t        500 mg\t            1000.0\t               7\t            7000.0\t        8330.0\n",
      "Dosis: 60mg   \tMedico: Dr. Andrés Herrera  \t        328 234 8901 \t\t        Especialidad: Traumatología\n",
      "\n",
      "\n",
      "Subtotal: 102000.0\n",
      "Total: 121380.0\n",
      "\n",
      "\n",
      "\n",
      "\n"
     ]
    }
   ],
   "execution_count": 12
  },
  {
   "metadata": {},
   "cell_type": "markdown",
   "source": ""
  },
  {
   "metadata": {},
   "cell_type": "markdown",
   "source": ""
  },
  {
   "metadata": {},
   "cell_type": "markdown",
   "source": ""
  },
  {
   "metadata": {},
   "cell_type": "markdown",
   "source": ""
  },
  {
   "cell_type": "markdown",
   "source": [],
   "metadata": {
    "id": "pAqR-IovJ_mN"
   }
  },
  {
   "cell_type": "markdown",
   "source": [],
   "metadata": {
    "id": "yEq3kwpBdZw9"
   }
  },
  {
   "cell_type": "markdown",
   "source": [],
   "metadata": {
    "id": "NUmRJH-RdOIN"
   }
  }
 ]
}
