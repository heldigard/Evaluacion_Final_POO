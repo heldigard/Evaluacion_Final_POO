{
 "nbformat": 4,
 "nbformat_minor": 0,
 "metadata": {
  "colab": {
   "provenance": []
  },
  "kernelspec": {
   "name": "python3",
   "display_name": "Python 3 (ipykernel)",
   "language": "python"
  },
  "language_info": {
   "name": "python"
  }
 },
 "cells": [
  {
   "cell_type": "markdown",
   "source": [
    "#Sistema de información para la gestión de la Droguería EIA"
   ],
   "metadata": {
    "id": "hbt7Z9AadO2G"
   }
  },
  {
   "metadata": {},
   "cell_type": "markdown",
   "source": "Integrantes: Kelly Alvarez, Eldigardo Camacho"
  },
  {
   "cell_type": "markdown",
   "source": [
    "* De cada medicamento se quiere almacenar el sku (código alfanumérico para identificar el medicamento), el nombre comercial, el nombre genérico, el precio sin impuesto, el valor del impuesto, el peso del contenido en gramos y la cantidad de unidades en existencia.\n",
    "* Los medicamentos de venta libre tienen un detalle de las contraindicaciones que puede generar.\n",
    "* Los medicamentos de venta restringida tienen la información de la dosis máxima que se puede consumir y los datos del médico que autoriza la venta."
   ],
   "metadata": {
    "id": "hnqWfoT6f6iZ"
   }
  },
  {
   "metadata": {},
   "cell_type": "markdown",
   "source": [
    "Simular 3 ventas a clientes diferentes que lleven medicamentos de venta libre y restringidos\n",
    "Muestre en pantalla el estado del inventario antes y despues de las ventas\n",
    "Muestre cada una de las facturas de las ventas"
   ]
  },
  {
   "metadata": {},
   "cell_type": "markdown",
   "source": "Como primer paso importamos Drogueria"
  },
  {
   "cell_type": "code",
   "source": "from Drogueria import Drogueria",
   "metadata": {
    "id": "bw4B6txXFsjD",
    "ExecuteTime": {
     "end_time": "2024-04-16T03:47:45.777161Z",
     "start_time": "2024-04-16T03:47:45.769915Z"
    }
   },
   "outputs": [],
   "execution_count": 1
  },
  {
   "metadata": {},
   "cell_type": "markdown",
   "source": "Creamos la drogueria e inicializamos la base de datos de medicamentos, clientes y medicos desde los archivos de texto plano .csv"
  },
  {
   "cell_type": "code",
   "source": [
    "drogueria = Drogueria('Droguería', '123456789', '123456789')\n",
    "drogueria.inicializar_datos()"
   ],
   "metadata": {
    "id": "f3CwtjMdF4zG",
    "ExecuteTime": {
     "end_time": "2024-04-16T03:47:45.781447Z",
     "start_time": "2024-04-16T03:47:45.778165Z"
    }
   },
   "outputs": [],
   "execution_count": 2
  },
  {
   "metadata": {},
   "cell_type": "markdown",
   "source": "Mostramos el estado actual del inventario completo"
  },
  {
   "metadata": {
    "ExecuteTime": {
     "end_time": "2024-04-16T03:47:45.785352Z",
     "start_time": "2024-04-16T03:47:45.782450Z"
    }
   },
   "cell_type": "code",
   "source": "drogueria.mostrar_inventario()",
   "outputs": [
    {
     "name": "stdout",
     "output_type": "stream",
     "text": [
      "\n",
      "Inventario de Medicamentos\n",
      "------------------------------------------------------------------------------------------------------------------------------------------------------------------------------------------------------------------------------------------\n",
      "SKU\t                Nombre Comercial\t                Nombre Generico   \t                Precio\t                Peso\t                Cant\t                Restr\t                IVA\t                Info\n",
      "------------------------------------------------------------------------------------------------------------------------------------------------------------------------------------------------------------------------------------------\n",
      "MED001  \t        Acetaminofén        \t        Paracetamol         \t            1500.0\t\t        10 mg   \t                20\t\t\t        NO        \t              0.19\t\t        Contraindicaciones: ['enfermedad hepática grave', ' enfermedad renal con uremia']\n",
      "MED002  \t        Ibuprofeno          \t        Ibuprofeno          \t            2000.0\t\t        200 mg  \t                10\t\t\t        NO        \t              0.19\t\t        Contraindicaciones: ['úlceras', ' hemorragias']\n",
      "MED003  \t        Aspirina            \t        AAS                 \t            1000.0\t\t        500 mg  \t                30\t\t\t        NO        \t              0.19\t\t        Contraindicaciones: ['úlcera gastrointestinal', ' molestias gástricas de repetición']\n",
      "MED004  \t        Loratadina          \t        Loratadina          \t            5000.0\t\t        10 mg   \t                15\t\t\t        NO        \t              0.19\t\t        Contraindicaciones: ['insuficiencia hepática', ' asma aguda']\n",
      "MED005  \t        Cetirizina          \t        Cetirizina          \t            4000.0\t\t        10 mg   \t                20\t\t\t        NO        \t              0.19\t\t        Contraindicaciones: ['somnolencia', ' cansancio excesivo']\n",
      "MED006  \t        Omeprazol           \t        Omeprazol           \t            7000.0\t\t        20 mg   \t                14\t\t\t        NO        \t              0.19\t\t        Contraindicaciones: ['sarpullido', ' urticaria']\n",
      "MED007  \t        Metformina          \t        Metformina          \t            3500.0\t\t        500 mg  \t                30\t\t\t        SI        \t              0.19\t\t        Dosis: 650 mg \t\n",
      "MED008  \t        Losartan            \t        Losartan            \t            8000.0\t\t        50 mg   \t                30\t\t\t        SI        \t              0.19\t\t        Dosis: 750 mg \t\n",
      "MED009  \t        Atorvastatina       \t        Atorvastatina       \t           12000.0\t\t        10 mg   \t                30\t\t\t        SI        \t              0.19\t\t        Dosis: 300 mg \t\n",
      "MED010  \t        Alprazolam          \t        Alprazolam          \t            6000.0\t\t        0.5 mg  \t                30\t\t\t        SI        \t              0.19\t\t        Dosis: 290 mg \t\n",
      "MED011  \t        Diazepam            \t        Diazepam            \t            4500.0\t\t        5 mg    \t                20\t\t\t        SI        \t              0.19\t\t        Dosis: 120 mg \t\n",
      "MED012  \t        Amoxicilina         \t        Amoxicilina         \t            8500.0\t\t        500 mg  \t                20\t\t\t        SI        \t              0.19\t\t        Dosis: 700 mg \t\n",
      "MED013  \t        Azitromicina        \t        Azitromicina        \t           11000.0\t\t        500 mg  \t                 6\t\t\t        SI        \t              0.19\t\t        Dosis: 860 mg \t\n",
      "MED014  \t        Ciprofloxacino      \t        Ciprofloxacino      \t            9000.0\t\t        500 mg  \t                10\t\t\t        SI        \t              0.19\t\t        Dosis: 75 mg  \t\n",
      "MED015  \t        Levotiroxina        \t        Levotiroxina        \t            5500.0\t\t        100 mcg \t                30\t\t\t        SI        \t              0.19\t\t        Dosis: 67 mcg \t\n",
      "MED016  \t        Salbutamol          \t        Salbutamol          \t            4000.0\t\t        100 mcg/ml\t                 1\t\t\t        NO        \t              0.19\t\t        Contraindicaciones: ['diabetes mellitus', ' infecciones virales']\n",
      "MED017  \t        Dexametasona        \t        Dexametasona        \t            3000.0\t\t        0.5 mg  \t                20\t\t\t        SI        \t              0.19\t\t        Dosis: 85 mg  \t\n",
      "MED018  \t        Prednisona          \t        Prednisona          \t            2500.0\t\t        5 mg    \t                30\t\t\t        SI        \t              0.19\t\t        Dosis: 150 mg \t\n",
      "MED019  \t        Fluoxetina          \t        Fluoxetina          \t            1200.0\t\t        100 mg  \t                10\t\t\t        SI        \t              0.19\t\t        Dosis: 20mg   \t\n",
      "MED020  \t        Keppra              \t        Levetiracetam       \t            1000.0\t\t        500 mg  \t                30\t\t\t        SI        \t              0.19\t\t        Dosis: 60mg   \t\n"
     ]
    }
   ],
   "execution_count": 3
  },
  {
   "metadata": {},
   "cell_type": "markdown",
   "source": "Ver unicamente las cantidades de los medicamentos"
  },
  {
   "cell_type": "code",
   "source": "drogueria.mostrar_inventario_cantidades()",
   "metadata": {
    "id": "E-g7wz6nFxCx",
    "ExecuteTime": {
     "end_time": "2024-04-16T03:47:45.789153Z",
     "start_time": "2024-04-16T03:47:45.786357Z"
    }
   },
   "outputs": [
    {
     "name": "stdout",
     "output_type": "stream",
     "text": [
      "\n",
      "Resumen de Medicamentos\n",
      "---------------------------------------------------------------\n",
      "SKU\t                Nombre Comercial\t                Cant\t\n",
      "---------------------------------------------------------------\n",
      "MED001\t            Acetaminofén        \t            20\n",
      "MED002\t            Ibuprofeno          \t            10\n",
      "MED003\t            Aspirina            \t            30\n",
      "MED004\t            Loratadina          \t            15\n",
      "MED005\t            Cetirizina          \t            20\n",
      "MED006\t            Omeprazol           \t            14\n",
      "MED007\t            Metformina          \t            30\n",
      "MED008\t            Losartan            \t            30\n",
      "MED009\t            Atorvastatina       \t            30\n",
      "MED010\t            Alprazolam          \t            30\n",
      "MED011\t            Diazepam            \t            20\n",
      "MED012\t            Amoxicilina         \t            20\n",
      "MED013\t            Azitromicina        \t            6\n",
      "MED014\t            Ciprofloxacino      \t            10\n",
      "MED015\t            Levotiroxina        \t            30\n",
      "MED016\t            Salbutamol          \t            1\n",
      "MED017\t            Dexametasona        \t            20\n",
      "MED018\t            Prednisona          \t            30\n",
      "MED019\t            Fluoxetina          \t            10\n",
      "MED020\t            Keppra              \t            30\n"
     ]
    }
   ],
   "execution_count": 4
  },
  {
   "metadata": {},
   "cell_type": "markdown",
   "source": "Simulamos la primera venta"
  },
  {
   "metadata": {
    "ExecuteTime": {
     "end_time": "2024-04-16T03:47:45.793749Z",
     "start_time": "2024-04-16T03:47:45.790159Z"
    }
   },
   "cell_type": "code",
   "source": "from Factura import Factura",
   "outputs": [],
   "execution_count": 5
  },
  {
   "cell_type": "code",
   "source": "factura_1 = Factura()\n",
   "metadata": {
    "id": "nc1CVO3wGjwq",
    "ExecuteTime": {
     "end_time": "2024-04-16T03:47:45.797684Z",
     "start_time": "2024-04-16T03:47:45.794252Z"
    }
   },
   "outputs": [],
   "execution_count": 6
  },
  {
   "cell_type": "code",
   "source": [
    "from DetalleFactura import DetalleFactura\n",
    "from Medico import Medico\n",
    "from MedicamentoVentaRestringida import MedicamentoVentaRestringida\n",
    "from MedicamentoVentaLibre import MedicamentoVentaLibre\n",
    "import random"
   ],
   "metadata": {
    "id": "xoQwHLo2hI9V",
    "ExecuteTime": {
     "end_time": "2024-04-16T03:47:45.801686Z",
     "start_time": "2024-04-16T03:47:45.798688Z"
    }
   },
   "outputs": [],
   "execution_count": 7
  },
  {
   "metadata": {},
   "cell_type": "markdown",
   "source": "Seleccionamos medicamentos y cantidades al azar"
  },
  {
   "cell_type": "code",
   "source": [
    "def generar_detalles_factura():\n",
    "    detalles_factura = []\n",
    "    for contador in range(random.randint(1, 5)):\n",
    "        medicamento_sku = random.choice(list(drogueria.inventario.keys()))\n",
    "        medicamento = drogueria.inventario[medicamento_sku]\n",
    "        if medicamento.cantidad_stock > 0:\n",
    "            cantidad = random.randint(1, medicamento.cantidad_stock)\n",
    "            if drogueria.vender_medicamento(medicamento.sku, cantidad):\n",
    "                detalle_factura = DetalleFactura(medicamento, cantidad)\n",
    "\n",
    "                if type(medicamento) is MedicamentoVentaRestringida:\n",
    "                    medico: Medico = random.choice(drogueria.medicos)\n",
    "                    medicamento: MedicamentoVentaRestringida = medicamento\n",
    "                    medicamento.medico = medico\n",
    "\n",
    "                detalles_factura.append(detalle_factura)\n",
    "\n",
    "    return detalles_factura\n",
    "\n",
    "\n",
    "for detalle in generar_detalles_factura():\n",
    "    factura_1.agregar_detalle(detalle)"
   ],
   "metadata": {
    "id": "Ek3HaMBiGzWo",
    "ExecuteTime": {
     "end_time": "2024-04-16T03:47:45.806268Z",
     "start_time": "2024-04-16T03:47:45.802576Z"
    }
   },
   "outputs": [],
   "execution_count": 8
  },
  {
   "metadata": {},
   "cell_type": "markdown",
   "source": "Agregamos el cliente a la factura"
  },
  {
   "cell_type": "code",
   "source": [
    "cliente_cedula = random.choice(list(drogueria.clientes.keys()))\n",
    "cliente = drogueria.clientes[cliente_cedula]\n",
    "\n",
    "factura_1.cliente = cliente\n",
    "factura_1.facturar()\n",
    "print(factura_1)\n",
    "drogueria.add_factura(factura_1)"
   ],
   "metadata": {
    "id": "2kAar_yvJ_2m",
    "ExecuteTime": {
     "end_time": "2024-04-16T03:47:45.812395Z",
     "start_time": "2024-04-16T03:47:45.806268Z"
    }
   },
   "outputs": [
    {
     "name": "stdout",
     "output_type": "stream",
     "text": [
      "Droguería EIA SAS BIC\n",
      "\n",
      "Fecha: 2024-04-15 22:47:45.796257\n",
      "\n",
      "Info Cliente\n",
      "Cedula    \t        Nombre              \t        Telefono          \t        Direccion \n",
      "765432109  \t        Ana López           \t        316 567 8901 \t\t        Calle 72 # 50-60    \n",
      "\n",
      "#Item\t        Nombre              \t        Peso    \t        Precio  \t        Cant\t        Subtotal\t        Total  \n",
      "1 \t            Salbutamol          \t        100 mcg/ml\t            4000.0\t               1\t            4000.0\t        4760.0\n",
      "Contraindicaciones: ['diabetes mellitus', ' infecciones virales']\n",
      "\n",
      "\n",
      "Subtotal: 4000.0\n",
      "Total: 4760.0\n",
      "\n",
      "\n"
     ]
    }
   ],
   "execution_count": 9
  },
  {
   "metadata": {},
   "cell_type": "markdown",
   "source": ""
  },
  {
   "metadata": {},
   "cell_type": "markdown",
   "source": ""
  },
  {
   "metadata": {},
   "cell_type": "markdown",
   "source": ""
  },
  {
   "metadata": {},
   "cell_type": "markdown",
   "source": ""
  },
  {
   "cell_type": "markdown",
   "source": [],
   "metadata": {
    "id": "pAqR-IovJ_mN"
   }
  },
  {
   "cell_type": "markdown",
   "source": [],
   "metadata": {
    "id": "yEq3kwpBdZw9"
   }
  },
  {
   "cell_type": "markdown",
   "source": [],
   "metadata": {
    "id": "NUmRJH-RdOIN"
   }
  }
 ]
}
