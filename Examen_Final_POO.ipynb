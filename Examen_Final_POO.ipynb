{
 "nbformat": 4,
 "nbformat_minor": 0,
 "metadata": {
  "colab": {
   "provenance": []
  },
  "kernelspec": {
   "name": "python3",
   "display_name": "Python 3 (ipykernel)",
   "language": "python"
  },
  "language_info": {
   "name": "python"
  }
 },
 "cells": [
  {
   "cell_type": "markdown",
   "source": [
    "#Sistema de información para la gestión de la Droguería EIA"
   ],
   "metadata": {
    "id": "hbt7Z9AadO2G"
   }
  },
  {
   "metadata": {},
   "cell_type": "markdown",
   "source": "Integrantes: Kelly Alvarez, Eldigardo Camacho"
  },
  {
   "cell_type": "markdown",
   "source": [
    "* De cada medicamento se quiere almacenar el sku (código alfanumérico para identificar el medicamento), el nombre comercial, el nombre genérico, el precio sin impuesto, el valor del impuesto, el peso del contenido en gramos y la cantidad de unidades en existencia.\n",
    "* Los medicamentos de venta libre tienen un detalle de las contraindicaciones que puede generar.\n",
    "* Los medicamentos de venta restringida tienen la información de la dosis máxima que se puede consumir y los datos del médico que autoriza la venta."
   ],
   "metadata": {
    "id": "hnqWfoT6f6iZ"
   }
  },
  {
   "metadata": {},
   "cell_type": "markdown",
   "source": [
    "Simular 3 ventas a clientes diferentes que lleven medicamentos de venta libre y restringidos\n",
    "Muestre en pantalla el estado del inventario antes y despues de las ventas\n",
    "Muestre cada una de las facturas de las ventas"
   ]
  },
  {
   "metadata": {},
   "cell_type": "markdown",
   "source": "Como primer paso importamos Drogueria"
  },
  {
   "cell_type": "code",
   "source": "from Drogueria import Drogueria",
   "metadata": {
    "id": "bw4B6txXFsjD",
    "ExecuteTime": {
     "end_time": "2024-04-16T01:33:10.791225Z",
     "start_time": "2024-04-16T01:33:10.783960Z"
    }
   },
   "outputs": [],
   "execution_count": 3
  },
  {
   "metadata": {},
   "cell_type": "markdown",
   "source": "Creamos la drogueria e inicializamos la base de datos de medicamentos, clientes y medicos desde los archivos de texto plano .csv"
  },
  {
   "cell_type": "code",
   "source": [
    "drogueria = Drogueria('Droguería', '123456789', '123456789')\n",
    "drogueria.inicializar_datos()"
   ],
   "metadata": {
    "id": "f3CwtjMdF4zG",
    "ExecuteTime": {
     "end_time": "2024-04-16T01:33:10.889968Z",
     "start_time": "2024-04-16T01:33:10.812159Z"
    }
   },
   "outputs": [
    {
     "ename": "IndexError",
     "evalue": "list index out of range",
     "output_type": "error",
     "traceback": [
      "\u001B[1;31m---------------------------------------------------------------------------\u001B[0m",
      "\u001B[1;31mIndexError\u001B[0m                                Traceback (most recent call last)",
      "Cell \u001B[1;32mIn[4], line 2\u001B[0m\n\u001B[0;32m      1\u001B[0m drogueria \u001B[38;5;241m=\u001B[39m Drogueria(\u001B[38;5;124m'\u001B[39m\u001B[38;5;124mDroguería\u001B[39m\u001B[38;5;124m'\u001B[39m, \u001B[38;5;124m'\u001B[39m\u001B[38;5;124m123456789\u001B[39m\u001B[38;5;124m'\u001B[39m, \u001B[38;5;124m'\u001B[39m\u001B[38;5;124m123456789\u001B[39m\u001B[38;5;124m'\u001B[39m)\n\u001B[1;32m----> 2\u001B[0m \u001B[43mdrogueria\u001B[49m\u001B[38;5;241;43m.\u001B[39;49m\u001B[43minicializar_datos\u001B[49m\u001B[43m(\u001B[49m\u001B[43m)\u001B[49m\n",
      "File \u001B[1;32m~\\PycharmProjects\\Final_POO-Drogueria\\Drogueria.py:36\u001B[0m, in \u001B[0;36mDrogueria.inicializar_datos\u001B[1;34m(self)\u001B[0m\n\u001B[0;32m     35\u001B[0m \u001B[38;5;28;01mdef\u001B[39;00m \u001B[38;5;21minicializar_datos\u001B[39m(\u001B[38;5;28mself\u001B[39m):\n\u001B[1;32m---> 36\u001B[0m     \u001B[38;5;28;43mself\u001B[39;49m\u001B[38;5;241;43m.\u001B[39;49m\u001B[43m__inicializar_inventario\u001B[49m\u001B[43m(\u001B[49m\u001B[43m)\u001B[49m\n\u001B[0;32m     37\u001B[0m     \u001B[38;5;28mself\u001B[39m\u001B[38;5;241m.\u001B[39m__inicializar_clientes()\n\u001B[0;32m     38\u001B[0m     \u001B[38;5;28mself\u001B[39m\u001B[38;5;241m.\u001B[39m__inicializar_medicos()\n",
      "File \u001B[1;32m~\\PycharmProjects\\Final_POO-Drogueria\\Drogueria.py:41\u001B[0m, in \u001B[0;36mDrogueria.__inicializar_inventario\u001B[1;34m(self)\u001B[0m\n\u001B[0;32m     40\u001B[0m \u001B[38;5;28;01mdef\u001B[39;00m \u001B[38;5;21m__inicializar_inventario\u001B[39m(\u001B[38;5;28mself\u001B[39m):\n\u001B[1;32m---> 41\u001B[0m     \u001B[38;5;28mself\u001B[39m\u001B[38;5;241m.\u001B[39m__inventario \u001B[38;5;241m=\u001B[39m \u001B[43mleer_inventario_desde_archivo\u001B[49m\u001B[43m(\u001B[49m\n\u001B[0;32m     42\u001B[0m \u001B[43m        \u001B[49m\u001B[38;5;124;43m'\u001B[39;49m\u001B[38;5;124;43mMedicamentosInventario.csv\u001B[39;49m\u001B[38;5;124;43m'\u001B[39;49m\n\u001B[0;32m     43\u001B[0m \u001B[43m    \u001B[49m\u001B[43m)\u001B[49m\n",
      "File \u001B[1;32m~\\PycharmProjects\\Final_POO-Drogueria\\BaseDatos.py:15\u001B[0m, in \u001B[0;36mleer_inventario_desde_archivo\u001B[1;34m(ruta)\u001B[0m\n\u001B[0;32m     13\u001B[0m vectorLinea \u001B[38;5;241m=\u001B[39m linea\u001B[38;5;241m.\u001B[39mstrip()\u001B[38;5;241m.\u001B[39msplit(\u001B[38;5;124m'\u001B[39m\u001B[38;5;124m,\u001B[39m\u001B[38;5;124m'\u001B[39m)\n\u001B[0;32m     14\u001B[0m sku \u001B[38;5;241m=\u001B[39m vectorLinea[\u001B[38;5;241m0\u001B[39m]\n\u001B[1;32m---> 15\u001B[0m nombre_comercial \u001B[38;5;241m=\u001B[39m \u001B[43mvectorLinea\u001B[49m\u001B[43m[\u001B[49m\u001B[38;5;241;43m1\u001B[39;49m\u001B[43m]\u001B[49m\n\u001B[0;32m     16\u001B[0m nombre_generico \u001B[38;5;241m=\u001B[39m vectorLinea[\u001B[38;5;241m2\u001B[39m]\n\u001B[0;32m     17\u001B[0m precio_neto \u001B[38;5;241m=\u001B[39m vectorLinea[\u001B[38;5;241m3\u001B[39m]\n",
      "\u001B[1;31mIndexError\u001B[0m: list index out of range"
     ]
    }
   ],
   "execution_count": 4
  },
  {
   "metadata": {},
   "cell_type": "markdown",
   "source": "Mostramos el estado actual del inventario completo"
  },
  {
   "metadata": {},
   "cell_type": "code",
   "source": "drogueria.mostrar_inventario()",
   "outputs": [],
   "execution_count": null
  },
  {
   "metadata": {},
   "cell_type": "markdown",
   "source": "Ver unicamente las cantidades de los medicamentos"
  },
  {
   "cell_type": "code",
   "source": "drogueria.mostrar_inventario_cantidades()",
   "metadata": {
    "id": "E-g7wz6nFxCx",
    "ExecuteTime": {
     "end_time": "2024-04-16T01:33:10.920946Z",
     "start_time": "2024-04-16T01:33:10.911066Z"
    }
   },
   "outputs": [
    {
     "name": "stdout",
     "output_type": "stream",
     "text": [
      "\n",
      "Resumen de Medicamentos\n",
      "-------------------------------------------------------------------\n",
      "SKU\t                Nombre Comercial    \t                Cant\t\n",
      "-------------------------------------------------------------------\n"
     ]
    }
   ],
   "execution_count": 5
  },
  {
   "metadata": {},
   "cell_type": "markdown",
   "source": "Simulamos la primera venta"
  },
  {
   "metadata": {
    "ExecuteTime": {
     "end_time": "2024-04-16T01:33:10.944765Z",
     "start_time": "2024-04-16T01:33:10.940019Z"
    }
   },
   "cell_type": "code",
   "source": "from Factura import Factura",
   "outputs": [],
   "execution_count": 6
  },
  {
   "cell_type": "code",
   "source": "factura_1 = Factura()\n",
   "metadata": {
    "id": "nc1CVO3wGjwq",
    "ExecuteTime": {
     "end_time": "2024-04-16T01:33:11.021850Z",
     "start_time": "2024-04-16T01:33:11.015036Z"
    }
   },
   "outputs": [],
   "execution_count": 7
  },
  {
   "cell_type": "code",
   "source": [
    "from DetalleFactura import DetalleFactura\n",
    "import random"
   ],
   "metadata": {
    "id": "xoQwHLo2hI9V",
    "ExecuteTime": {
     "end_time": "2024-04-16T01:33:11.092506Z",
     "start_time": "2024-04-16T01:33:11.082604Z"
    }
   },
   "outputs": [],
   "execution_count": 8
  },
  {
   "metadata": {},
   "cell_type": "markdown",
   "source": "Seleccionamos medicamentos y cantidades al azar"
  },
  {
   "cell_type": "code",
   "source": [
    "def generar_detalles_factura():\n",
    "    detalles_factura = []\n",
    "    for contador in range(random.randint(1, 5)):\n",
    "        medicamento_sku = random.choice(list(drogueria.inventario.keys()))\n",
    "        medicamento = drogueria.inventario[medicamento_sku]\n",
    "        if medicamento.cantidad_stock > 0:\n",
    "            cantidad = random.randint(1, medicamento.cantidad_stock)\n",
    "            if drogueria.vender_medicamento(medicamento.sku, cantidad):\n",
    "                detalle_factura = DetalleFactura(medicamento, cantidad)\n",
    "                detalles_factura.append(detalle_factura)\n",
    "\n",
    "    return detalles_factura\n",
    "\n",
    "\n",
    "for detalle in generar_detalles_factura():\n",
    "    factura_1.agregar_detalle(detalle)"
   ],
   "metadata": {
    "id": "Ek3HaMBiGzWo",
    "ExecuteTime": {
     "end_time": "2024-04-16T01:33:11.272814Z",
     "start_time": "2024-04-16T01:33:11.167856Z"
    }
   },
   "outputs": [
    {
     "ename": "IndexError",
     "evalue": "Cannot choose from an empty sequence",
     "output_type": "error",
     "traceback": [
      "\u001B[1;31m---------------------------------------------------------------------------\u001B[0m",
      "\u001B[1;31mIndexError\u001B[0m                                Traceback (most recent call last)",
      "Cell \u001B[1;32mIn[9], line 15\u001B[0m\n\u001B[0;32m     10\u001B[0m                 detalles_factura\u001B[38;5;241m.\u001B[39mappend(detalle_factura)\n\u001B[0;32m     12\u001B[0m     \u001B[38;5;28;01mreturn\u001B[39;00m detalles_factura\n\u001B[1;32m---> 15\u001B[0m \u001B[38;5;28;01mfor\u001B[39;00m detalle \u001B[38;5;129;01min\u001B[39;00m \u001B[43mgenerar_detalles_factura\u001B[49m\u001B[43m(\u001B[49m\u001B[43m)\u001B[49m:\n\u001B[0;32m     16\u001B[0m     factura_1\u001B[38;5;241m.\u001B[39magregar_detalle(detalle)\n",
      "Cell \u001B[1;32mIn[9], line 4\u001B[0m, in \u001B[0;36mgenerar_detalles_factura\u001B[1;34m()\u001B[0m\n\u001B[0;32m      2\u001B[0m detalles_factura \u001B[38;5;241m=\u001B[39m []\n\u001B[0;32m      3\u001B[0m \u001B[38;5;28;01mfor\u001B[39;00m contador \u001B[38;5;129;01min\u001B[39;00m \u001B[38;5;28mrange\u001B[39m(random\u001B[38;5;241m.\u001B[39mrandint(\u001B[38;5;241m1\u001B[39m, \u001B[38;5;241m5\u001B[39m)):\n\u001B[1;32m----> 4\u001B[0m     medicamento_sku \u001B[38;5;241m=\u001B[39m \u001B[43mrandom\u001B[49m\u001B[38;5;241;43m.\u001B[39;49m\u001B[43mchoice\u001B[49m\u001B[43m(\u001B[49m\u001B[38;5;28;43mlist\u001B[39;49m\u001B[43m(\u001B[49m\u001B[43mdrogueria\u001B[49m\u001B[38;5;241;43m.\u001B[39;49m\u001B[43minventario\u001B[49m\u001B[38;5;241;43m.\u001B[39;49m\u001B[43mkeys\u001B[49m\u001B[43m(\u001B[49m\u001B[43m)\u001B[49m\u001B[43m)\u001B[49m\u001B[43m)\u001B[49m\n\u001B[0;32m      5\u001B[0m     medicamento \u001B[38;5;241m=\u001B[39m drogueria\u001B[38;5;241m.\u001B[39minventario[medicamento_sku]\n\u001B[0;32m      6\u001B[0m     \u001B[38;5;28;01mif\u001B[39;00m medicamento\u001B[38;5;241m.\u001B[39mcantidad_stock \u001B[38;5;241m>\u001B[39m \u001B[38;5;241m0\u001B[39m:\n",
      "File \u001B[1;32mC:\\Program Files\\Python312\\Lib\\random.py:347\u001B[0m, in \u001B[0;36mRandom.choice\u001B[1;34m(self, seq)\u001B[0m\n\u001B[0;32m    344\u001B[0m \u001B[38;5;66;03m# As an accommodation for NumPy, we don't use \"if not seq\"\u001B[39;00m\n\u001B[0;32m    345\u001B[0m \u001B[38;5;66;03m# because bool(numpy.array()) raises a ValueError.\u001B[39;00m\n\u001B[0;32m    346\u001B[0m \u001B[38;5;28;01mif\u001B[39;00m \u001B[38;5;129;01mnot\u001B[39;00m \u001B[38;5;28mlen\u001B[39m(seq):\n\u001B[1;32m--> 347\u001B[0m     \u001B[38;5;28;01mraise\u001B[39;00m \u001B[38;5;167;01mIndexError\u001B[39;00m(\u001B[38;5;124m'\u001B[39m\u001B[38;5;124mCannot choose from an empty sequence\u001B[39m\u001B[38;5;124m'\u001B[39m)\n\u001B[0;32m    348\u001B[0m \u001B[38;5;28;01mreturn\u001B[39;00m seq[\u001B[38;5;28mself\u001B[39m\u001B[38;5;241m.\u001B[39m_randbelow(\u001B[38;5;28mlen\u001B[39m(seq))]\n",
      "\u001B[1;31mIndexError\u001B[0m: Cannot choose from an empty sequence"
     ]
    }
   ],
   "execution_count": 9
  },
  {
   "metadata": {},
   "cell_type": "markdown",
   "source": "Agregamos el cliente a la factura"
  },
  {
   "cell_type": "code",
   "source": [
    "cliente_cedula = random.choice(list(drogueria.clientes.keys()))\n",
    "cliente = drogueria.clientes[cliente_cedula]\n",
    "\n",
    "factura_1.cliente = cliente\n",
    "factura_1.facturar()\n",
    "print(factura_1)\n",
    "drogueria.add_factura(factura_1)"
   ],
   "metadata": {
    "id": "2kAar_yvJ_2m"
   },
   "outputs": [],
   "execution_count": null
  },
  {
   "metadata": {},
   "cell_type": "markdown",
   "source": ""
  },
  {
   "metadata": {},
   "cell_type": "markdown",
   "source": ""
  },
  {
   "metadata": {},
   "cell_type": "markdown",
   "source": ""
  },
  {
   "metadata": {},
   "cell_type": "markdown",
   "source": ""
  },
  {
   "cell_type": "markdown",
   "source": [],
   "metadata": {
    "id": "pAqR-IovJ_mN"
   }
  },
  {
   "cell_type": "markdown",
   "source": [],
   "metadata": {
    "id": "yEq3kwpBdZw9"
   }
  },
  {
   "cell_type": "markdown",
   "source": [],
   "metadata": {
    "id": "NUmRJH-RdOIN"
   }
  }
 ]
}
