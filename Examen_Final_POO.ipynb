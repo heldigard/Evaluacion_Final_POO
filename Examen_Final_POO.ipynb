{
 "nbformat": 4,
 "nbformat_minor": 0,
 "metadata": {
  "colab": {
   "provenance": []
  },
  "kernelspec": {
   "name": "python3",
   "display_name": "Python 3 (ipykernel)",
   "language": "python"
  },
  "language_info": {
   "name": "python"
  }
 },
 "cells": [
  {
   "cell_type": "markdown",
   "source": [
    "#Sistema de información para la gestión de la Droguería EIA"
   ],
   "metadata": {
    "id": "hbt7Z9AadO2G"
   }
  },
  {
   "metadata": {},
   "cell_type": "markdown",
   "source": "Integrantes: Kelly Alvarez, Eldigardo Camacho"
  },
  {
   "cell_type": "markdown",
   "source": [
    "* De cada medicamento se quiere almacenar el sku (código alfanumérico para identificar el medicamento), el nombre comercial, el nombre genérico, el precio sin impuesto, el valor del impuesto, el peso del contenido en gramos y la cantidad de unidades en existencia.\n",
    "* Los medicamentos de venta libre tienen un detalle de las contraindicaciones que puede generar.\n",
    "* Los medicamentos de venta restringida tienen la información de la dosis máxima que se puede consumir y los datos del médico que autoriza la venta."
   ],
   "metadata": {
    "id": "hnqWfoT6f6iZ"
   }
  },
  {
   "metadata": {},
   "cell_type": "markdown",
   "source": [
    "Simular 3 ventas a clientes diferentes que lleven medicamentos de venta libre y restringidos\n",
    "Muestre en pantalla el estado del inventario antes y despues de las ventas\n",
    "Muestre cada una de las facturas de las ventas"
   ]
  },
  {
   "cell_type": "code",
   "source": "from Drogueria import Drogueria",
   "metadata": {
    "id": "bw4B6txXFsjD",
    "ExecuteTime": {
     "end_time": "2024-04-15T21:12:52.370724Z",
     "start_time": "2024-04-15T21:12:52.364255Z"
    }
   },
   "outputs": [],
   "execution_count": 1
  },
  {
   "cell_type": "code",
   "source": [
    "drogueria = Drogueria('Drogueria', '123456789', '123456789')\n",
    "drogueria.inicializar_datos()\n",
    "drogueria.mostrar_inventario()"
   ],
   "metadata": {
    "id": "f3CwtjMdF4zG",
    "ExecuteTime": {
     "end_time": "2024-04-15T21:12:52.375187Z",
     "start_time": "2024-04-15T21:12:52.371728Z"
    }
   },
   "outputs": [
    {
     "name": "stdout",
     "output_type": "stream",
     "text": [
      "\n",
      "Inventario de Medicamentos\n",
      "-----------------------------------------------------------------------------------------------------------------------------------------------------------------------------------------------------------------------------------------\n",
      "SKU\t                N. Comercial   \t                N. Generico       \t                Precio\t                Peso\t                Cant\t                Restr\t                IVA\t                Info\n",
      "-----------------------------------------------------------------------------------------------------------------------------------------------------------------------------------------------------------------------------------------\n",
      "MED001  \t        Acetaminofén             \t        Paracetamol              \t            1500.0\t\t        10 mg   \t                20\t\t\t        NO        \t\t              0.19\t\t        Con Contraindicaciones\n",
      "MED002  \t        Ibuprofeno               \t        Ibuprofeno               \t            2000.0\t\t        200 mg  \t                10\t\t\t        NO        \t\t              0.19\t\t        Con Contraindicaciones\n",
      "MED003  \t        Ácido acetilsalicílico   \t        AAS                      \t            1000.0\t\t        500 mg  \t                30\t\t\t        NO        \t\t              0.19\t\t        Con Contraindicaciones\n",
      "MED004  \t        Loratadina               \t        Loratadina               \t            5000.0\t\t        10 mg   \t                15\t\t\t        NO        \t\t              0.19\t\t        Con Contraindicaciones\n",
      "MED005  \t        Cetirizina               \t        Cetirizina               \t            4000.0\t\t        10 mg   \t                20\t\t\t        NO        \t\t              0.19\t\t        Con Contraindicaciones\n",
      "MED006  \t        Omeprazol                \t        Omeprazol                \t            7000.0\t\t        20 mg   \t                14\t\t\t        NO        \t\t              0.19\t\t        Con Contraindicaciones\n",
      "MED007  \t        Metformina               \t        Metformina               \t            3500.0\t\t        500 mg  \t                30\t\t\t        SI        \t\t              0.19\t\t        Dosis: 650 mg \t\n",
      "MED008  \t        Losartan                 \t        Losartan                 \t            8000.0\t\t        50 mg   \t                30\t\t\t        SI        \t\t              0.19\t\t        Dosis: 750 mg \t\n",
      "MED009  \t        Atorvastatina            \t        Atorvastatina            \t           12000.0\t\t        10 mg   \t                30\t\t\t        SI        \t\t              0.19\t\t        Dosis: 300 mg \t\n",
      "MED010  \t        Alprazolam               \t        Alprazolam               \t            6000.0\t\t        0.5 mg  \t                30\t\t\t        SI        \t\t              0.19\t\t        Dosis: 290 mg \t\n",
      "MED011  \t        Diazepam                 \t        Diazepam                 \t            4500.0\t\t        5 mg    \t                20\t\t\t        SI        \t\t              0.19\t\t        Dosis: 120 mg \t\n",
      "MED012  \t        Amoxicilina              \t        Amoxicilina              \t            8500.0\t\t        500 mg  \t                20\t\t\t        SI        \t\t              0.19\t\t        Dosis: 700 mg \t\n",
      "MED013  \t        Azitromicina             \t        Azitromicina             \t           11000.0\t\t        500 mg  \t                 6\t\t\t        SI        \t\t              0.19\t\t        Dosis: 860 mg \t\n",
      "MED014  \t        Ciprofloxacino           \t        Ciprofloxacino           \t            9000.0\t\t        500 mg  \t                10\t\t\t        SI        \t\t              0.19\t\t        Dosis: 75 mg  \t\n",
      "MED015  \t        Levotiroxina             \t        Levotiroxina             \t            5500.0\t\t        100 mcg \t                30\t\t\t        SI        \t\t              0.19\t\t        Dosis: 67 mcg \t\n",
      "MED016  \t        Salbutamol               \t        Salbutamol               \t            4000.0\t\t        100 mcg/ml\t                 1\t\t\t        NO        \t\t              0.19\t\t        Con Contraindicaciones\n",
      "MED017  \t        Dexametasona             \t        Dexametasona             \t            3000.0\t\t        0.5 mg  \t                20\t\t\t        SI        \t\t              0.19\t\t        Dosis: 85 mg  \t\n",
      "MED018  \t        Prednisona               \t        Prednisona               \t            2500.0\t\t        5 mg    \t                30\t\t\t        SI        \t\t              0.19\t\t        Dosis: 150 mg \t\n",
      "MED019  \t        Ibuprofeno pediátrico    \t        Ibuprofeno               \t            1200.0\t\t        100 mg  \t                10\t\t\t        NO        \t\t              0.19\t\t        Con Contraindicaciones\n",
      "MED020  \t        Paracetamol pediátrico   \t        Paracetamol              \t            1000.0\t\t        160 mg  \t                12\t\t\t        NO        \t\t              0.19\t\t        Con Contraindicaciones\n"
     ]
    }
   ],
   "execution_count": 2
  },
  {
   "cell_type": "code",
   "source": "drogueria.mostrar_inventario_cantidades()",
   "metadata": {
    "id": "E-g7wz6nFxCx",
    "ExecuteTime": {
     "end_time": "2024-04-15T21:12:52.378536Z",
     "start_time": "2024-04-15T21:12:52.375187Z"
    }
   },
   "outputs": [
    {
     "name": "stdout",
     "output_type": "stream",
     "text": [
      "\n",
      "Resumen de Medicamentos\n",
      "---------------------------------------------------------------------------------------------------\n",
      "SKU\t                N. Comercial   \t                N. Generico         \t                Cant\t\n",
      "---------------------------------------------------------------------------------------------------\n",
      "MED001\t            Acetaminofén   \t            Paracetamol         \t            20\n",
      "MED002\t            Ibuprofeno     \t            Ibuprofeno          \t            10\n",
      "MED003\t            Ácido acetilsalicílico\t            AAS                 \t            30\n",
      "MED004\t            Loratadina     \t            Loratadina          \t            15\n",
      "MED005\t            Cetirizina     \t            Cetirizina          \t            20\n",
      "MED006\t            Omeprazol      \t            Omeprazol           \t            14\n",
      "MED007\t            Metformina     \t            Metformina          \t            30\n",
      "MED008\t            Losartan       \t            Losartan            \t            30\n",
      "MED009\t            Atorvastatina  \t            Atorvastatina       \t            30\n",
      "MED010\t            Alprazolam     \t            Alprazolam          \t            30\n",
      "MED011\t            Diazepam       \t            Diazepam            \t            20\n",
      "MED012\t            Amoxicilina    \t            Amoxicilina         \t            20\n",
      "MED013\t            Azitromicina   \t            Azitromicina        \t            6\n",
      "MED014\t            Ciprofloxacino \t            Ciprofloxacino      \t            10\n",
      "MED015\t            Levotiroxina   \t            Levotiroxina        \t            30\n",
      "MED016\t            Salbutamol     \t            Salbutamol          \t            1\n",
      "MED017\t            Dexametasona   \t            Dexametasona        \t            20\n",
      "MED018\t            Prednisona     \t            Prednisona          \t            30\n",
      "MED019\t            Ibuprofeno pediátrico\t            Ibuprofeno          \t            10\n",
      "MED020\t            Paracetamol pediátrico\t            Paracetamol         \t            12\n"
     ]
    }
   ],
   "execution_count": 3
  },
  {
   "cell_type": "code",
   "source": "",
   "metadata": {
    "id": "nc1CVO3wGjwq",
    "ExecuteTime": {
     "end_time": "2024-04-15T21:12:52.380978Z",
     "start_time": "2024-04-15T21:12:52.378536Z"
    }
   },
   "outputs": [],
   "execution_count": 3
  },
  {
   "cell_type": "code",
   "source": "",
   "metadata": {
    "id": "xoQwHLo2hI9V",
    "ExecuteTime": {
     "end_time": "2024-04-15T21:12:52.383644Z",
     "start_time": "2024-04-15T21:12:52.381983Z"
    }
   },
   "outputs": [],
   "execution_count": 3
  },
  {
   "cell_type": "code",
   "source": "\n",
   "metadata": {
    "id": "Ek3HaMBiGzWo",
    "ExecuteTime": {
     "end_time": "2024-04-15T21:12:52.385943Z",
     "start_time": "2024-04-15T21:12:52.383644Z"
    }
   },
   "outputs": [],
   "execution_count": 3
  },
  {
   "cell_type": "code",
   "source": "\n",
   "metadata": {
    "id": "2kAar_yvJ_2m",
    "ExecuteTime": {
     "end_time": "2024-04-15T21:12:52.388154Z",
     "start_time": "2024-04-15T21:12:52.385943Z"
    }
   },
   "outputs": [],
   "execution_count": 3
  },
  {
   "cell_type": "markdown",
   "source": [],
   "metadata": {
    "id": "pAqR-IovJ_mN"
   }
  },
  {
   "cell_type": "markdown",
   "source": [],
   "metadata": {
    "id": "yEq3kwpBdZw9"
   }
  },
  {
   "cell_type": "markdown",
   "source": [],
   "metadata": {
    "id": "NUmRJH-RdOIN"
   }
  }
 ]
}
