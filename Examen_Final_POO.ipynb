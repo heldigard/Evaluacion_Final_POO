{
 "nbformat": 4,
 "nbformat_minor": 0,
 "metadata": {
  "colab": {
   "provenance": []
  },
  "kernelspec": {
   "name": "python3",
   "display_name": "Python 3 (ipykernel)",
   "language": "python"
  },
  "language_info": {
   "name": "python"
  }
 },
 "cells": [
  {
   "cell_type": "markdown",
   "source": [
    "#Sistema de información para la gestión de la Droguería EIA"
   ],
   "metadata": {
    "id": "hbt7Z9AadO2G"
   }
  },
  {
   "metadata": {},
   "cell_type": "markdown",
   "source": "Integrantes: Kelly Alvarez, Eldigardo Camacho"
  },
  {
   "cell_type": "markdown",
   "source": [
    "* De cada medicamento se quiere almacenar el sku (código alfanumérico para identificar el medicamento), el nombre comercial, el nombre genérico, el precio sin impuesto, el valor del impuesto, el peso del contenido en gramos y la cantidad de unidades en existencia.\n",
    "* Los medicamentos de venta libre tienen un detalle de las contraindicaciones que puede generar.\n",
    "* Los medicamentos de venta restringida tienen la información de la dosis máxima que se puede consumir y los datos del médico que autoriza la venta."
   ],
   "metadata": {
    "id": "hnqWfoT6f6iZ"
   }
  },
  {
   "metadata": {},
   "cell_type": "markdown",
   "source": [
    "Simular 3 ventas a clientes diferentes que lleven medicamentos de venta libre y restringidos\n",
    "Muestre en pantalla el estado del inventario antes y despues de las ventas\n",
    "Muestre cada una de las facturas de las ventas"
   ]
  },
  {
   "cell_type": "code",
   "source": "from Drogueria import Drogueria",
   "metadata": {
    "id": "bw4B6txXFsjD",
    "ExecuteTime": {
     "end_time": "2024-04-15T17:10:21.851751Z",
     "start_time": "2024-04-15T17:10:21.844617Z"
    }
   },
   "outputs": [],
   "execution_count": 1
  },
  {
   "cell_type": "code",
   "source": [
    "drogueria = Drogueria('Drogueria', '123456789', '123456789')\n",
    "drogueria.inicializar_inventario()\n",
    "drogueria.mostrar_inventario()"
   ],
   "metadata": {
    "id": "f3CwtjMdF4zG",
    "ExecuteTime": {
     "end_time": "2024-04-15T17:10:21.856442Z",
     "start_time": "2024-04-15T17:10:21.852756Z"
    }
   },
   "outputs": [
    {
     "name": "stdout",
     "output_type": "stream",
     "text": [
      "SKU\tNombre Comercial\tNombre Generico\tPeso\tCant. en Existencia\n",
      "MED001  \t        Acetaminofén        \t        Paracetamol         \t        1500.0\t        10 mg     \t            20\t          0\t        0.19\t\t        Con Contraindicaciones\n",
      "MED002  \t        Ibuprofeno          \t        Ibuprofeno          \t        2000.0\t        200 mg    \t            10\t          0\t        0.19\t\t        Con Contraindicaciones\n",
      "MED003  \t        Ácido acetilsalicílico\t        AAS                 \t        1000.0\t        500 mg    \t            30\t          0\t        0.19\t\t        Con Contraindicaciones\n",
      "MED004  \t        Loratadina          \t        Loratadina          \t        5000.0\t        10 mg     \t            15\t          0\t        0.19\t\t        Con Contraindicaciones\n",
      "MED005  \t        Cetirizina          \t        Cetirizina          \t        4000.0\t        10 mg     \t            20\t          0\t        0.19\t\t        Con Contraindicaciones\n",
      "MED006  \t        Omeprazol           \t        Omeprazol           \t        7000.0\t        20 mg     \t            14\t          0\t        0.19\t\t        Con Contraindicaciones\n",
      "MED007  \t        Metformina          \t        Metformina          \t        3500.0\t        500 mg    \t            30\t          1\t        0.19\t\t        Dosis: 650 mg \t        Medico: None\n",
      "MED008  \t        Losartan            \t        Losartan            \t        8000.0\t        50 mg     \t            30\t          1\t        0.19\t\t        Dosis: 750 mg \t        Medico: None\n",
      "MED009  \t        Atorvastatina       \t        Atorvastatina       \t        12000.0\t        10 mg     \t            30\t          1\t        0.19\t\t        Dosis: 300 mg \t        Medico: None\n",
      "MED010  \t        Alprazolam          \t        Alprazolam          \t        6000.0\t        0.5 mg    \t            30\t          1\t        0.19\t\t        Dosis: 290 mg \t        Medico: None\n",
      "MED011  \t        Diazepam            \t        Diazepam            \t        4500.0\t        5 mg      \t            20\t          1\t        0.19\t\t        Dosis: 120 mg \t        Medico: None\n",
      "MED012  \t        Amoxicilina         \t        Amoxicilina         \t        8500.0\t        500 mg    \t            20\t          1\t        0.19\t\t        Dosis: 700 mg \t        Medico: None\n",
      "MED013  \t        Azitromicina        \t        Azitromicina        \t        11000.0\t        500 mg    \t             6\t          1\t        0.19\t\t        Dosis: 860 mg \t        Medico: None\n",
      "MED014  \t        Ciprofloxacino      \t        Ciprofloxacino      \t        9000.0\t        500 mg    \t            10\t          1\t        0.19\t\t        Dosis: 75 mg  \t        Medico: None\n",
      "MED015  \t        Levotiroxina        \t        Levotiroxina        \t        5500.0\t        100 mcg   \t            30\t          1\t        0.19\t\t        Dosis: 67 mcg \t        Medico: None\n",
      "MED016  \t        Salbutamol          \t        Salbutamol          \t        4000.0\t        100 mcg/ml\t             1\t          0\t        0.19\t\t        Con Contraindicaciones\n",
      "MED017  \t        Dexametasona        \t        Dexametasona        \t        3000.0\t        0.5 mg    \t            20\t          1\t        0.19\t\t        Dosis: 85 mg  \t        Medico: None\n",
      "MED018  \t        Prednisona          \t        Prednisona          \t        2500.0\t        5 mg      \t            30\t          1\t        0.19\t\t        Dosis: 150 mg \t        Medico: None\n",
      "MED019  \t        Ibuprofeno pediátrico\t        Ibuprofeno          \t        1200.0\t        100 mg    \t            10\t          0\t        0.19\t\t        Con Contraindicaciones\n",
      "MED020  \t        Paracetamol pediátrico\t        Paracetamol         \t        1000.0\t        160 mg    \t            12\t          0\t        0.19\t\t        Con Contraindicaciones\n"
     ]
    }
   ],
   "execution_count": 2
  },
  {
   "cell_type": "code",
   "source": "",
   "metadata": {
    "id": "E-g7wz6nFxCx",
    "ExecuteTime": {
     "end_time": "2024-04-15T17:10:21.858914Z",
     "start_time": "2024-04-15T17:10:21.856442Z"
    }
   },
   "outputs": [],
   "execution_count": 2
  },
  {
   "cell_type": "code",
   "source": "",
   "metadata": {
    "id": "nc1CVO3wGjwq",
    "ExecuteTime": {
     "end_time": "2024-04-15T17:10:21.861304Z",
     "start_time": "2024-04-15T17:10:21.858914Z"
    }
   },
   "outputs": [],
   "execution_count": 2
  },
  {
   "cell_type": "code",
   "source": "",
   "metadata": {
    "id": "xoQwHLo2hI9V",
    "ExecuteTime": {
     "end_time": "2024-04-15T17:10:21.863803Z",
     "start_time": "2024-04-15T17:10:21.862308Z"
    }
   },
   "outputs": [],
   "execution_count": 2
  },
  {
   "cell_type": "code",
   "source": "\n",
   "metadata": {
    "id": "Ek3HaMBiGzWo",
    "ExecuteTime": {
     "end_time": "2024-04-15T17:10:21.866183Z",
     "start_time": "2024-04-15T17:10:21.863803Z"
    }
   },
   "outputs": [],
   "execution_count": 2
  },
  {
   "cell_type": "code",
   "source": "\n",
   "metadata": {
    "id": "2kAar_yvJ_2m",
    "ExecuteTime": {
     "end_time": "2024-04-15T17:10:21.869428Z",
     "start_time": "2024-04-15T17:10:21.866183Z"
    }
   },
   "outputs": [],
   "execution_count": 2
  },
  {
   "cell_type": "markdown",
   "source": [],
   "metadata": {
    "id": "pAqR-IovJ_mN"
   }
  },
  {
   "cell_type": "markdown",
   "source": [],
   "metadata": {
    "id": "yEq3kwpBdZw9"
   }
  },
  {
   "cell_type": "markdown",
   "source": [],
   "metadata": {
    "id": "NUmRJH-RdOIN"
   }
  }
 ]
}
