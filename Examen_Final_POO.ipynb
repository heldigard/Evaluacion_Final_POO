{
 "nbformat": 4,
 "nbformat_minor": 0,
 "metadata": {
  "colab": {
   "provenance": []
  },
  "kernelspec": {
   "name": "python3",
   "display_name": "Python 3"
  },
  "language_info": {
   "name": "python"
  }
 },
 "cells": [
  {
   "cell_type": "markdown",
   "source": [
    "#Sistema de información para la gestión de la Droguería EIA"
   ],
   "metadata": {
    "id": "hbt7Z9AadO2G"
   }
  },
  {
   "metadata": {},
   "cell_type": "markdown",
   "source": "Integrantes: Kelly Alvarez, Eldigardo Camacho"
  },
  {
   "cell_type": "markdown",
   "source": [
    "* De cada medicamento se quiere almacenar el sku (código alfanumérico para identificar el medicamento), el nombre comercial, el nombre genérico, el precio sin impuesto, el valor del impuesto, el peso del contenido en gramos y la cantidad de unidades en existencia.\n",
    "* Los medicamentos de venta libre tienen un detalle de las contraindicaciones que puede generar.\n",
    "* Los medicamentos de venta restringida tienen la información de la dosis máxima que se puede consumir y los datos del médico que autoriza la venta."
   ],
   "metadata": {
    "id": "hnqWfoT6f6iZ"
   }
  },
  {
   "cell_type": "code",
   "source": [
    "import Medicamento\n",
    "import VentaRestringida"
   ],
   "metadata": {
    "id": "bw4B6txXFsjD"
   },
   "execution_count": null,
   "outputs": []
  },
  {
   "cell_type": "code",
   "source": "",
   "metadata": {
    "id": "f3CwtjMdF4zG"
   },
   "execution_count": null,
   "outputs": []
  },
  {
   "cell_type": "code",
   "source": "",
   "metadata": {
    "id": "E-g7wz6nFxCx"
   },
   "execution_count": null,
   "outputs": []
  },
  {
   "cell_type": "code",
   "source": "",
   "metadata": {
    "id": "nc1CVO3wGjwq"
   },
   "execution_count": null,
   "outputs": []
  },
  {
   "cell_type": "code",
   "source": "",
   "metadata": {
    "id": "xoQwHLo2hI9V"
   },
   "execution_count": null,
   "outputs": []
  },
  {
   "cell_type": "code",
   "source": "\n",
   "metadata": {
    "id": "Ek3HaMBiGzWo"
   },
   "execution_count": null,
   "outputs": []
  },
  {
   "cell_type": "code",
   "source": "\n",
   "metadata": {
    "id": "2kAar_yvJ_2m"
   },
   "execution_count": null,
   "outputs": []
  },
  {
   "cell_type": "markdown",
   "source": [],
   "metadata": {
    "id": "pAqR-IovJ_mN"
   }
  },
  {
   "cell_type": "markdown",
   "source": [],
   "metadata": {
    "id": "yEq3kwpBdZw9"
   }
  },
  {
   "cell_type": "markdown",
   "source": [],
   "metadata": {
    "id": "NUmRJH-RdOIN"
   }
  }
 ]
}
