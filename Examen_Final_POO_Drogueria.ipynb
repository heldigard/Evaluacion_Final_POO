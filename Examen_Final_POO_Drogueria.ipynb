{
 "nbformat": 4,
 "nbformat_minor": 0,
 "metadata": {
  "colab": {
   "provenance": []
  },
  "kernelspec": {
   "name": "python3",
   "display_name": "Python 3 (ipykernel)",
   "language": "python"
  },
  "language_info": {
   "name": "python"
  }
 },
 "cells": [
  {
   "cell_type": "markdown",
   "source": "# Sistema de información para la gestión de la Droguería EIA",
   "metadata": {
    "id": "hbt7Z9AadO2G"
   }
  },
  {
   "cell_type": "markdown",
   "source": [
    "* De cada medicamento se quiere almacenar el sku (código alfanumérico para identificar el medicamento), el nombre comercial, el nombre genérico, el precio sin impuesto, el valor del impuesto, el peso del contenido en gramos y la cantidad de unidades en existencia.<br/>\n",
    "* Los medicamentos de venta libre tienen un detalle de las contraindicaciones que puede generar.<br/>\n",
    "* Los medicamentos de venta restringida tienen la información de la dosis máxima que se puede consumir y los datos del médico que autoriza la venta.<br/>"
   ],
   "metadata": {
    "id": "hnqWfoT6f6iZ"
   }
  },
  {
   "metadata": {},
   "cell_type": "markdown",
   "source": [
    "* Simular 3 ventas a clientes diferentes que lleven medicamentos de venta libre y restringidos<br/>\n",
    "* Muestre en pantalla el estado del inventario antes y despues de las ventas<br/>\n",
    "* Muestre cada una de las facturas de las ventas<br/>"
   ]
  },
  {
   "metadata": {},
   "cell_type": "markdown",
   "source": "Como primer paso importamos Drogueria"
  },
  {
   "cell_type": "code",
   "source": "from Drogueria import Drogueria",
   "metadata": {
    "id": "bw4B6txXFsjD"
   },
   "outputs": [],
   "execution_count": null
  },
  {
   "metadata": {},
   "cell_type": "markdown",
   "source": "Creamos la drogueria e inicializamos la base de datos de medicamentos, clientes y medicos desde los archivos de texto plano .csv"
  },
  {
   "cell_type": "code",
   "source": [
    "drogueria = Drogueria('Droguería', '123456789', '123456789')\n",
    "drogueria.inicializar_datos()"
   ],
   "metadata": {
    "id": "f3CwtjMdF4zG"
   },
   "outputs": [],
   "execution_count": null
  },
  {
   "metadata": {},
   "cell_type": "markdown",
   "source": "Mostramos el estado actual del inventario completo"
  },
  {
   "metadata": {},
   "cell_type": "code",
   "source": "drogueria.mostrar_inventario()",
   "outputs": [],
   "execution_count": null
  },
  {
   "metadata": {},
   "cell_type": "markdown",
   "source": "Ver unicamente las cantidades de los medicamentos"
  },
  {
   "cell_type": "code",
   "source": "drogueria.mostrar_inventario_cantidades()",
   "metadata": {
    "id": "E-g7wz6nFxCx"
   },
   "outputs": [],
   "execution_count": null
  },
  {
   "metadata": {},
   "cell_type": "markdown",
   "source": "Simulamos las ventas, a continuacion los metodos encargados de generar aleatoriamente detalles de factura y facturas"
  },
  {
   "cell_type": "code",
   "source": [
    "from Factura import Factura\n",
    "from DetalleFactura import DetalleFactura\n",
    "from Medico import Medico\n",
    "from MedicamentoVentaRestringida import MedicamentoVentaRestringida\n",
    "from MedicamentoVentaLibre import MedicamentoVentaLibre\n",
    "import random"
   ],
   "metadata": {
    "id": "xoQwHLo2hI9V"
   },
   "outputs": [],
   "execution_count": null
  },
  {
   "metadata": {},
   "cell_type": "markdown",
   "source": "Seleccionamos medicamentos y cantidades al azar"
  },
  {
   "cell_type": "code",
   "source": [
    "def generar_detalles_factura():\n",
    "    detalles_factura = []\n",
    "    for contador in range(random.randint(1, 5)):\n",
    "        medicamento_sku = random.choice(list(drogueria.inventario.keys()))\n",
    "        medicamento = drogueria.inventario[medicamento_sku]\n",
    "        if medicamento.cantidad_stock > 0:\n",
    "            cantidad = random.randint(1, medicamento.cantidad_stock)\n",
    "            if drogueria.vender_medicamento(medicamento.sku, cantidad):\n",
    "                detalle_factura = DetalleFactura(medicamento, cantidad)\n",
    "\n",
    "                if type(medicamento) is MedicamentoVentaRestringida:\n",
    "                    medico: Medico = random.choice(drogueria.medicos)\n",
    "                    medicamento: MedicamentoVentaRestringida = medicamento\n",
    "                    medicamento.medico = medico\n",
    "\n",
    "                detalles_factura.append(detalle_factura)\n",
    "\n",
    "    return detalles_factura"
   ],
   "metadata": {
    "id": "Ek3HaMBiGzWo"
   },
   "outputs": [],
   "execution_count": null
  },
  {
   "metadata": {},
   "cell_type": "markdown",
   "source": "Adicionamos dellates de venta a la factura"
  },
  {
   "metadata": {},
   "cell_type": "code",
   "source": [
    "def crear_detalles_factura(factura: Factura):\n",
    "    for detalle in generar_detalles_factura():\n",
    "        factura.agregar_detalle(detalle)"
   ],
   "outputs": [],
   "execution_count": null
  },
  {
   "metadata": {},
   "cell_type": "markdown",
   "source": "Agregamos el cliente a la factura"
  },
  {
   "metadata": {},
   "cell_type": "code",
   "source": [
    "def add_cliente_factura(factura: Factura):\n",
    "    cliente_cedula = random.choice(list(drogueria.clientes.keys()))\n",
    "    cliente = drogueria.clientes[cliente_cedula]\n",
    "    factura.cliente = cliente"
   ],
   "outputs": [],
   "execution_count": null
  },
  {
   "metadata": {},
   "cell_type": "markdown",
   "source": "Calculamos sutbtotal, total de la factura y la agregamos al listado de facturas de la Drogueria"
  },
  {
   "cell_type": "code",
   "source": [
    "def add_factura_drogueria(factura: Factura):\n",
    "    factura.facturar()\n",
    "    drogueria.add_factura(factura)"
   ],
   "metadata": {
    "id": "2kAar_yvJ_2m"
   },
   "outputs": [],
   "execution_count": null
  },
  {
   "metadata": {},
   "cell_type": "markdown",
   "source": "Aleatoriamente, generamos de 3 a 5 facturas"
  },
  {
   "metadata": {},
   "cell_type": "code",
   "source": [
    "def generar_ventas():\n",
    "    for contador in range(random.randint(3, 6)):\n",
    "        nueva_factura = Factura(\n",
    "            empresa=drogueria.empresa,\n",
    "            nit=drogueria.nit,\n",
    "            razon_social=drogueria.razon_social\n",
    "        )\n",
    "        crear_detalles_factura(nueva_factura)\n",
    "        add_cliente_factura(nueva_factura)\n",
    "        add_factura_drogueria(nueva_factura)"
   ],
   "outputs": [],
   "execution_count": null
  },
  {
   "metadata": {},
   "cell_type": "markdown",
   "source": "Mostramos estado del inventario luego de las ventas, cada vez que ejecute el siguiente bloque de codigo se generaran nuevas ventas"
  },
  {
   "metadata": {},
   "cell_type": "code",
   "source": [
    "generar_ventas()\n",
    "drogueria.mostrar_inventario_cantidades()"
   ],
   "outputs": [],
   "execution_count": null
  },
  {
   "metadata": {},
   "cell_type": "markdown",
   "source": "Mostramos las facturas de las ventas"
  },
  {
   "metadata": {},
   "cell_type": "code",
   "source": [
    "print(f\"Cantidad de Facturas en el sistema: {len(drogueria.facturas)}\")\n",
    "for factura in drogueria.facturas:\n",
    "    print(\"-\" * 100)\n",
    "    print(f\"{factura}\\n\\n\")"
   ],
   "outputs": [],
   "execution_count": null
  },
  {
   "metadata": {},
   "cell_type": "markdown",
   "source": ""
  },
  {
   "metadata": {},
   "cell_type": "markdown",
   "source": ""
  },
  {
   "metadata": {},
   "cell_type": "markdown",
   "source": ""
  },
  {
   "metadata": {},
   "cell_type": "markdown",
   "source": ""
  },
  {
   "cell_type": "markdown",
   "source": [],
   "metadata": {
    "id": "pAqR-IovJ_mN"
   }
  },
  {
   "cell_type": "markdown",
   "source": [],
   "metadata": {
    "id": "yEq3kwpBdZw9"
   }
  },
  {
   "cell_type": "markdown",
   "source": [],
   "metadata": {
    "id": "NUmRJH-RdOIN"
   }
  }
 ]
}
